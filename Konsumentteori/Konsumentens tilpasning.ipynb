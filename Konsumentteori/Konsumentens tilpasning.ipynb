{
 "cells": [
  {
   "cell_type": "markdown",
   "id": "e9693ff5-3b0c-4e14-bcb6-9b7cfdd1bb01",
   "metadata": {},
   "source": [
    "## Konsumentens tilpasning"
   ]
  },
  {
   "cell_type": "code",
   "execution_count": 1,
   "id": "e22d0299-dae6-401e-8362-95243118bcc3",
   "metadata": {},
   "outputs": [],
   "source": [
    "# Laster inn pakker\n",
    "import numpy as np\n",
    "from sympy import *\n",
    "from matplotlib import pyplot as plt"
   ]
  },
  {
   "cell_type": "markdown",
   "id": "432a6b43-970b-4d03-9155-7f545d72a15a",
   "metadata": {},
   "source": [
    "<hr/>"
   ]
  },
  {
   "cell_type": "markdown",
   "id": "6700e654-8869-4fe0-a47a-95771ec791a5",
   "metadata": {},
   "source": [
    "#### Konsumentens tilpasning"
   ]
  },
  {
   "cell_type": "markdown",
   "id": "27fcd592-1c9a-4f2b-a8da-18220c04927d",
   "metadata": {},
   "source": [
    "Et individ har inntekten gitt ved $m$. Individet står ovenfor prisene gitt ved $p_1$ og $p_2$ på henholdsvis vare $x_1$ og $x_2$. Konsumenten har følgende nyttefunksjon:\n",
    "<br> $U(x_1,x_2) = x_1^{0.5}x_2^{0.5}$"
   ]
  },
  {
   "cell_type": "markdown",
   "id": "e8db9f46-8728-43ea-9890-c3e71f97eea0",
   "metadata": {},
   "source": [
    "1) Finn utrykket for den marignale substitusjonsbrøken (MSB) for denne personen.\n",
    "2) Vis hvordan etterspørselen etter vare $x_1$ kan utrykkes.\n",
    "3) Vis hvordan etterspørselen etter vare $x_2$ kan utrykkes.\n",
    "4) Er vare $x_1$ et normalt eller mindreverdig gode?"
   ]
  },
  {
   "cell_type": "markdown",
   "id": "fc6b9072-3eea-43af-be04-55052bc6d07b",
   "metadata": {},
   "source": [
    "**Oppgave 1**\n",
    "<br> Fra tidligere vet vi at formelen for MSB er gitt ved:\n",
    "<br> $MSB = \\frac{U'x_1}{U'x_2}$\n",
    "<br> Vi har tidligere sett på en snairvei for å løse slike nyttefunksjoner (se kapittel om MSB).\n",
    "<br> Med bruke av denne snarveien får vi:\n",
    "<br> $MSB = \\frac{0.5}{0.5} * \\frac{x_2}{x_1} = \\frac{x_2}{x_1}$"
   ]
  },
  {
   "cell_type": "markdown",
   "id": "d372a349-4276-4c6a-9f99-84237cc74dc0",
   "metadata": {},
   "source": [
    "**Oppgave 2**\n",
    "<br> For å finne hvordan etterspørselen for vare $x_1$ kan utrykkes må vi første finne to betingelser.\n",
    "<br> Det er inntekten til individet som er gitt ved:\n",
    "<br> $p_1x_1 + p_2x_2 = m$\n",
    "<br> Og tangeringsbetingelsen som er gitt ved:\n",
    "<br> $MSB = \\frac{p_1}{p_2}$\n",
    "<br> Konsumenten tilpasser seg der indifferenskurven tangerer budjsettkurven. Tangeringspunktet finner vi der tallverdien til stigningstallet til indifferenskurven er nøyaktig det samme som tallverdien til stigningstallet til budsjettkurven \n",
    "<br> Fra forrige oppgave fant vi MSB og kan derfor sette inn det utrykket inn for MSB:\n",
    "<br> $\\frac{x_2}{x_1} = \\frac{p_1}{p_2}$\n",
    "<br> Nå ønsker vi å få $x_1$ alene på den ene siden av likhetstegnet med å gange med $x_1$:\n",
    "<br> $\\frac{x_2}{x_1} = \\frac{p_1}{p_2} | * x_1$\n",
    "<br> $x_2 = \\frac{p_1}{p_2} * x_1$\n",
    "<br> Nå vet vi va $x_2$ er lik og kan sette dette inn i formelen for inntekten til individet:\n",
    "<br> $p_1x_1 + p_2*\\frac{p_1}{p_2} * x_1 = m$\n",
    "<br> Siden utrykket nå ikke inkluderer gode $x_2$ skal vi klare å sette vare $x_1$ alene på siden av likhetstegnet:\n",
    "<br> $p_1x_1 + p_1x_1 = m$\n",
    "<br> $2p_1x_1 = m$\n",
    "<br> $\\frac{2p_1x_1}{2p_1} = \\frac{m}{*2p_1}$\n",
    "<br> $x_1= \\frac{m}{2p_1}$\n",
    "<br> Etterspørselen for vare $x_1$ kan altså utrykkes på følgende måte:\n",
    "<br> $x_1= \\frac{m}{2p_1}$"
   ]
  },
  {
   "cell_type": "markdown",
   "id": "87fee201-7dd8-4c91-beed-fc5c0d28ecc5",
   "metadata": {},
   "source": [
    "**Oppgave 3**\n",
    "<br> For å finne hvordan etterspørselen for vare $x_2$ kan utrykkes skal vi bruke mye av den informassjonen vi fant i forrige oppgave.\n",
    "<br> Vi vet at tangeringsbetingelsen kan skrives som:\n",
    "<br> $x_2 = \\frac{p_1}{p_2} * x_1$\n",
    "<br> Utrykket over er en måte å utrykket etterspørselen for vare $x_2$. Ulempen med dette er at det avhenger av $x_1$.\n",
    "<br> Vi skal derfor finne ett utrykk som ikke avhenger av vare $x_1$.\n",
    "<br> I forrige oppgave fant vi utrykke for etterspørselen for vare $x_1$ og dette kan vi sette inn for $x_1$:\n",
    "<br> $x_2 = \\frac{p_1}{p_2} * \\frac{m}{2p_1}$\n",
    "<br> $x_2 = \\frac{m}{2p_2}$\n",
    "<br> Etterspørselen for vare $x_2$ kan altså utrykkes på følgende måte:\n",
    "<br> $x_2 = \\frac{m}{2p_2}$"
   ]
  },
  {
   "cell_type": "markdown",
   "id": "1fe7de37-3a23-44fb-b457-aff1d79c1554",
   "metadata": {},
   "source": [
    "**Oppgave 4**\n",
    "<br> **Normale goder** er goder vi kjøper mer av når *inntekten* øker og mindre av når *inntekten* reduseres.\n",
    "<br> **Mindreverdige goder** er goder vi kjøper mindre av når *inntekten* øker og mer av når *inntekten* reduseres.\n",
    "<br> Vi ska først se på utrykket for etterspørselen til vare $x_1$:\n",
    "<br> $x_1= \\frac{m}{2p_1}$\n",
    "<br> Vi kan se at inntekten befinner seg i telleren, det betyr at visst telleren øker vil det medføre at hele brøken blir større og dermed øker også etterspørselen etter gode $x_1$.\n",
    "<br> Vi kan derfor si at vare $x_1$ er et nomalt gode."
   ]
  },
  {
   "cell_type": "markdown",
   "id": "e3aba81f-69a6-4785-a580-a2b500f6276d",
   "metadata": {},
   "source": [
    "<hr/>"
   ]
  },
  {
   "cell_type": "markdown",
   "id": "98ed56fb-addd-4169-b08b-47574e5568a1",
   "metadata": {},
   "source": [
    "#### Konsumentens tilpasning med gitte priser"
   ]
  },
  {
   "cell_type": "markdown",
   "id": "99ae3ba7-e53e-4559-9c0d-ce1ade48e391",
   "metadata": {},
   "source": [
    "Elise har inntekten $m = 3200$ og hun står ovenfor prisene $p_1 = 256$ og $p_2 = 64$. Hun har følgende nyttefunksjon for varene $x_1$ og $x_2$:\n",
    "<br> $U(x_1,x_2) = x_1 + 2x_2^{0.5}$"
   ]
  },
  {
   "cell_type": "markdown",
   "id": "858f979e-804c-4645-adba-d447f0477983",
   "metadata": {},
   "source": [
    "1) Utled Elises budsjettkurve\n",
    "2) Finn godekombinasjonen som gir hun den maksimale nytten\n",
    "3) Tegn budsjettkurven og den optimale godekombinasjonen til Elise i samme diagram. "
   ]
  },
  {
   "cell_type": "markdown",
   "id": "f3e38a20-787a-4647-b1b6-978b43ac9193",
   "metadata": {},
   "source": [
    "**Oppgave 1**\n",
    "<br> Budsjettkurven er i utgangspunktet gitt ved:\n",
    "<br> $x_1p_1 + x_2p_2 = m$\n",
    "<br> Vi ønsker å få vare $x_2$ stående som avhengig variabel (alene).\n",
    "<br> $x_2p_2 = m - x_1p_1$\n",
    "<br> $\\frac{x_2p_2}{p_2} = \\frac{m}{p_2}-\\frac{x_1p_1}{p_2}$\n",
    "<br> $x_2 = \\frac{m}{p_2}-\\frac{x_1p_1}{p_2}$\n",
    "<br> Siden vi kjenner til inntekt og prisene kan vi putte disse inn i budsjettkurven:\n",
    "<br> $x_2 = \\frac{3200}{64}-\\frac{x_1*256}{64}$\n",
    "<br> $x_2 = 50 - 4x_1$\n",
    "<br> Budsjettkurven til Elise kan altså skrives som:\n",
    "<br> $x_2 = 50 - 4x_1$"
   ]
  },
  {
   "cell_type": "markdown",
   "id": "f8f20f43-3894-4a16-aaa8-d87099a54222",
   "metadata": {},
   "source": [
    "**Oppgave 2**\n",
    "<br> Konsumenten tilpasser seg der hvor indifferenskurven og budsjettkurven tangerer.\n",
    "<br> Det er 2 betingelser som gjelder for konsumentens optimale godekombinasjon.\n",
    "1) Budsjettbetingelsen .\n",
    "2) Tangeringsbetingelsen.\n",
    "\n",
    "Vi har allerede funnet budsjettbetingelsen i oppgave 1.\n",
    "<br> $x_2 = 50 - 4x_1$\n",
    "<br> Tangeringsbetingelsen er gitt ved:\n",
    "<br> $MSB = \\frac{p_1}{p_2}$\n",
    "<br> Siden vi har faste priser i denne oppgaven kan vi plotte inn disse.\n",
    "<br> $MSB = \\frac{256}{64} = 4$\n",
    "<br> Tangeringsbetingelsen er altså gitt ved:\n",
    "<br> $MSB = 4$\n",
    "<br> Så må vi finne ut MSB'en til ELise, den er gitt ved:\n",
    "<br> $MSB = \\frac{U'x_1}{U'x_2} = \\frac{1}{2*0.5*x_2^{0.5-1}} = \\frac{1}{x_2^{-0.5}} = x_2^{0.5}$\n",
    "<br> Da kan vi sette MSB inn i tangeringsbetingelsen vi fant iste:\n",
    "<br> $x_2^{0.5} = 4$\n",
    "<br> For å få $x_2$ helt alene opphøyer vi alle ledd i 2:\n",
    "<br> $(x_2^{0.5})^{2} = 4^{2}$\n",
    "<br> $x_2^{0.5*2} = 16$\n",
    "<br> $x_2 = 16$\n",
    "<br> Da har vi funnet ut at Elise med sin inntekt, priser og nyttefunksjon vil etterspørre 16 enheter av vare $x_2$.\n",
    "<br> Så må vi finne ut hvor mange enheter av vare $x_1$ hun etterspør. Det kan vi gjøre med å sette antall enheter $x_2$ inn i budsjettbetingelsen:\n",
    "<br> $16 = 50 - 4x_1$\n",
    "<br> $4x_1 = 50 - 16$\n",
    "<br> $\\frac{4x_1}{4} = \\frac{34}{4}$\n",
    "<br> $x_1 = 8.5$\n",
    "<br> Så Elise etterspør 16 enheter av vare $x_2$ og 8.5 enheter vare $x_1$ gitt sitt budsjett, priser og nyttefunksjon."
   ]
  },
  {
   "cell_type": "markdown",
   "id": "bb4d2d6c-6da0-4eb9-aca7-5b6d43922ed4",
   "metadata": {},
   "source": [
    "**Oppgave 3**"
   ]
  },
  {
   "cell_type": "code",
   "execution_count": 2,
   "id": "69aec8c8-88f9-440c-a8df-e999395eb0ba",
   "metadata": {},
   "outputs": [],
   "source": [
    "# Definerer funksjonen for budsjettkurven.\n",
    "def bud(x):\n",
    "    return 50 - 4*x"
   ]
  },
  {
   "cell_type": "code",
   "execution_count": 3,
   "id": "1e4996e8-1260-43ad-861c-d6988407bcf2",
   "metadata": {},
   "outputs": [],
   "source": [
    "# Lager et intervall mellom 0 - 100.\n",
    "x_1 = np.linspace(0,100,100)"
   ]
  },
  {
   "cell_type": "code",
   "execution_count": 5,
   "id": "4f7b609d-a4d3-41f9-b944-5a1f84a707b7",
   "metadata": {},
   "outputs": [
    {
     "data": {
      "image/png": "[encoded data removed]",
      "text/plain": [
       "<Figure size 640x480 with 1 Axes>"
      ]
     },
     "metadata": {},
     "output_type": "display_data"
    }
   ],
   "source": [
    "# Lager subplot slik at jeg enkelt kan redigere det senere.\n",
    "fig, ax = plt.subplots()\n",
    "\n",
    "# Gir aksene navn.\n",
    "ax.set_ylabel(\"x_2\")\n",
    "ax.set_xlabel(\"x_1\")\n",
    "\n",
    "# Plotter grafer, linjer og tekst.\n",
    "ax.plot(x_1, bud(x_1), color = \"blue\", label = \"Budsjettkurve\")\n",
    "ax.plot(8.5, 16, color = \"orange\", label = \"Optimal tilpasning\", marker = \"o\")\n",
    "\n",
    "# Begrenser aksene. \n",
    "ax.set(xlim = (0,15))\n",
    "ax.set(ylim = (0,60))\n",
    "\n",
    "# Gir figuren en tittel.\n",
    "ax.set_title(\"Konsumentens tilpasning\")\n",
    "\n",
    "# Gir figuren en legend.\n",
    "ax.legend(loc = \"upper right\")\n",
    "\n",
    "# Viser figuren.\n",
    "plt.grid()\n",
    "plt.show()"
   ]
  },
  {
   "cell_type": "markdown",
   "id": "16478e67-e09e-4cfa-8abb-bf4cab138515",
   "metadata": {},
   "source": [
    "<hr/>"
   ]
  }
 ],
 "metadata": {
  "kernelspec": {
   "display_name": "Python 3 (ipykernel)",
   "language": "python",
   "name": "python3"
  },
  "language_info": {
   "codemirror_mode": {
    "name": "ipython",
    "version": 3
   },
   "file_extension": ".py",
   "mimetype": "text/x-python",
   "name": "python",
   "nbconvert_exporter": "python",
   "pygments_lexer": "ipython3",
   "version": "3.9.15"
  }
 },
 "nbformat": 4,
 "nbformat_minor": 5
}
