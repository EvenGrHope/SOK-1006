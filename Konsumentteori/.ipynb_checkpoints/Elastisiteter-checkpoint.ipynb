{
 "cells": [
  {
   "cell_type": "markdown",
   "id": "f29b8961-fbad-4e52-bf42-f05a64c64fe3",
   "metadata": {},
   "source": [
    "## Elastisiteter"
   ]
  },
  {
   "cell_type": "code",
   "execution_count": 1,
   "id": "47e5fffe-4b46-466c-8274-3341d030a7f1",
   "metadata": {},
   "outputs": [],
   "source": [
    "# Laster inn pakker\n",
    "import numpy as np\n",
    "from sympy import *\n",
    "from matplotlib import pyplot as plt"
   ]
  },
  {
   "cell_type": "markdown",
   "id": "2ce52fca-a7d8-44a0-8038-8237cd9b455d",
   "metadata": {},
   "source": [
    "<hr/>"
   ]
  },
  {
   "cell_type": "markdown",
   "id": "3c980266-bd28-4f99-b6e3-cec906fd4724",
   "metadata": {},
   "source": [
    "#### Inntektselastisiteter"
   ]
  },
  {
   "cell_type": "markdown",
   "id": "d4e36bfb-35d3-4801-87d8-c3934cefb602",
   "metadata": {},
   "source": [
    "**Introduksjon**\n",
    "<br> Inntektselastisitet viser den prosentvise endringen i etterspurt mengde etter godet når inntekten endres med 1%.\n",
    "<br> F.eks. Hva skjer med etterspørselen etter brus om inntekten øker med 1%.\n",
    "<br> Formelen for inntektselastisitet til gode $x_1$ er gitt ved:\n",
    "<br> $E_{x_1} = \\frac{m}{x_1} * \\frac{dx'x_1}{dx'm}$\n",
    "<br> Formelen for inntektselastisitet til gode $x_2$ er gitt ved:\n",
    "<br> $E_{x_2} = \\frac{m}{x_2} * \\frac{dx'x_2}{dx'm}$"
   ]
  },
  {
   "cell_type": "markdown",
   "id": "ffde8017-f4ec-4488-8737-9f0814df7cd8",
   "metadata": {},
   "source": [
    "**Eksempel**\n",
    "<br> Brus har etterspørselsfunksjonen:\n",
    "<br> $x_1 = \\frac{m}{p_1}$\n",
    "<br> Vi starter med å finne den partiellderiverte av funksjonen til $x_1$ med hensyn på $m$.\n",
    "<br> $\\frac{dx'x_1}{dx'm} = \\frac{1}{p_1}$\n",
    "<br> Så setter vi inn funksjoen til $x_1$ og den partiellderiverte vi nettopp fant inn i formelen for inntektselastisitet:\n",
    "<br> $E_{x_1} = \\frac{m}{\\frac{m}{p_1}} * \\frac{1}{p_1}$\n",
    "<br> Forenkler brøken:\n",
    "<br> $E_{x_1} = \\frac{m}{m} = 1$\n",
    "<br> Det betyr at inntektselastisiteten er lik 1."
   ]
  },
  {
   "cell_type": "markdown",
   "id": "6f345f5e-be39-4b87-885e-42beeb905193",
   "metadata": {},
   "source": [
    "**Tolkninger av inntektselastisitet**\n",
    "<br> Når inntektelastisiteten er posetiv er det et normalt gode.\n",
    "<br> Når inntektelastisiteten er negativ er det et mindreverdig gode.\n",
    "\n",
    "$E_{x_1} = -0.5$\n",
    "<br> Hvis inntekten øker med 1%, vil etterspørselen reduseres med 0.5%.\n",
    "<br> Hvis inntekten reduseres med 1%, vil etterspørselen øke med 0.5%.\n",
    "\n",
    "$E_{x_1} = 1$\n",
    "<br> Hvis inntekten øker med 1%, vil etterspørselen øke med 1%.\n",
    "<br> Hvis inntekten reduseres med 1%, vil etterspørselen reduseres med 1%.\n",
    "\n",
    "$E_{x_1} = 1.5$\n",
    "<br> Hvis inntekten øker med 1%, vil etterspørselen øke med 1.5%.\n",
    "<br> Hvis inntekten reduseres med 1%, vil etterspørselen reduseres med 1.5%."
   ]
  },
  {
   "cell_type": "markdown",
   "id": "40cbbaa7-9687-412e-a7b2-c4ce178e722b",
   "metadata": {},
   "source": [
    "<hr/>"
   ]
  },
  {
   "cell_type": "markdown",
   "id": "dbb34dc9-4aab-4a51-87e7-2137e33c5667",
   "metadata": {},
   "source": [
    "#### Priselastisiteter"
   ]
  },
  {
   "cell_type": "markdown",
   "id": "29e39a45-dd46-4b09-b87d-c6b5850f270e",
   "metadata": {},
   "source": [
    "Priselastisitet viser den prosentvise endringen i etterspurt mengde etter godet når prisen endres med 1%.\n",
    "<br> F.eks. Hva skjer med etterspørselen etter brus om prisen øker med 1%.\n",
    "<br> Formelen for inntektselastisitet til gode $x_1$ er gitt ved:\n",
    "<br> $e_{x_1} = \\frac{p_1}{x_1} * \\frac{dx'x_1}{dx'p_1}$\n",
    "<br> Formelen for inntektselastisitet til gode $x_2$ er gitt ved:\n",
    "<br> $e_{x_2} = \\frac{p_2}{x_2} * \\frac{dx'x_2}{dx'p_2}$"
   ]
  },
  {
   "cell_type": "markdown",
   "id": "1b2c6f25-323a-4c35-9789-32728361504b",
   "metadata": {},
   "source": [
    "**Eksempel**\n",
    "<br> Brus har etterspørselsfunksjonen:\n",
    "<br> $x_1 = \\frac{m}{p_1}$\n",
    "<br> Vi starter med å finne den partiellderiverte av funksjonen til $x_1$ med hensyn på $p_1$.\n",
    "<br> $\\frac{dx'x_1}{dx'p_1} = \\frac{-m}{p_1^2}$\n",
    "<br> Så setter vi inn funksjoen til $x_1$ og den partiellderiverte vi nettopp fant inn i formelen for inntektselastisitet:\n",
    "<br> $e_{x_1} = \\frac{p_1}{\\frac{m}{p_1}} * \\frac{-m}{p_1^2}$\n",
    "<br> Forenkler brøken:\n",
    "<br> $e_{x_1} = \\frac{p_1}{m} * \\frac{-m}{p_1} = -1$\n",
    "<br> Det betyr at inntektselastisiteten er lik -1."
   ]
  },
  {
   "cell_type": "markdown",
   "id": "c187be2f-5aba-4c96-b5b7-5489ad20c64c",
   "metadata": {},
   "source": [
    "**Tolkninger av priselastisitet**\n",
    "<br> $e_{x_1} = -1$ Nøytralelastisk.\n",
    "<br> Hvis prisen øker med 1%, vil etterspørselen reduseres med 1%.\n",
    "<br> Hvis prisen reduseres med 1%, vil etterspørselen øke med 1%.\n",
    "\n",
    "$e_{x_1} < -1$ Relativt elastisk.\n",
    "<br> $e_{x_1} = -1.5$\n",
    "<br> Hvis prisen øker med 1%, vil etterspørselen reduseres med 1.5%.\n",
    "<br> Hvis prisen reduseres med 1%, vil etterspørselen øke med 1.5%.\n",
    "<br> Konsumentene er sensetiv for prisendringer. Bryr seg mye om pris på disse varene.\n",
    "\n",
    "$-1 < e_{x_1} < 0$ Relativt uelastisk.\n",
    "<br> $e_{x_1} = -0.2$\n",
    "<br> Hvis prisen øker med 1%, vil etterspørselen reduseres med 0.2%.\n",
    "<br> Hvis prisen reduseres med 1%, vil etterspørselen øke med 0.2%.\n",
    "<br> Konsumentene er lite sensetiv for prisendringer. Bryr seg lite om pris på disse varene.\n",
    "\n",
    "$e_{x_1} > 0$ Giffen-gode.\n",
    "<br> $e_{x_1} = 0.5$\n",
    "<br> Hvis prisen øker med 1%, vil etterspørselen øke med 0.5%.\n",
    "<br> Hvis prisen reduseres med 1%, vil etterspørselen reduseres med 0.5%."
   ]
  },
  {
   "cell_type": "markdown",
   "id": "f0471378-7f3e-456b-852b-6b3e3fafc93a",
   "metadata": {},
   "source": [
    "<hr/>"
   ]
  }
 ],
 "metadata": {
  "kernelspec": {
   "display_name": "Python 3 (ipykernel)",
   "language": "python",
   "name": "python3"
  },
  "language_info": {
   "codemirror_mode": {
    "name": "ipython",
    "version": 3
   },
   "file_extension": ".py",
   "mimetype": "text/x-python",
   "name": "python",
   "nbconvert_exporter": "python",
   "pygments_lexer": "ipython3",
   "version": "3.9.15"
  }
 },
 "nbformat": 4,
 "nbformat_minor": 5
}
