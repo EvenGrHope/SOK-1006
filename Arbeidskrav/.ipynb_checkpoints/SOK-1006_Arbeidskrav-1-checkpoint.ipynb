{
 "cells": [
  {
   "cell_type": "markdown",
   "id": "ae0a58af-2b38-4ca0-9e03-d3dd19573ab5",
   "metadata": {},
   "source": [
    "## SOK-1006 Arbeidskrav (1)"
   ]
  },
  {
   "cell_type": "code",
   "execution_count": 4,
   "id": "ff912c74-28f6-4687-a05a-96a780f8768e",
   "metadata": {},
   "outputs": [],
   "source": [
    "# Laster inn pakker\n",
    "import numpy as np\n",
    "import sympy as sp\n",
    "import pandas as pd\n",
    "from matplotlib import pyplot as plt"
   ]
  },
  {
   "cell_type": "markdown",
   "id": "636ffd56-01a5-4745-b383-e9330bd0d7b3",
   "metadata": {},
   "source": [
    "<hr/>"
   ]
  },
  {
   "cell_type": "markdown",
   "id": "00f79272-a677-42e8-b5a8-27de97c12959",
   "metadata": {},
   "source": [
    "### Oppgave 7.1"
   ]
  },
  {
   "cell_type": "code",
   "execution_count": 5,
   "id": "de3ce633-6383-4bea-85dc-def85c0bee9c",
   "metadata": {},
   "outputs": [],
   "source": [
    "# Laster ned dataen for \"watermelon market\".\n",
    "df_1 = pd.read_csv(\"https://uit-sok-1006-v23.github.io/data/suits_watermelons.csv\", delimiter=\";\")"
   ]
  },
  {
   "cell_type": "markdown",
   "id": "17d3d44b-390e-4332-ae8a-687cde74a34e",
   "metadata": {},
   "source": [
    "<hr/>"
   ]
  },
  {
   "cell_type": "markdown",
   "id": "81f0a8c3-2cc0-493f-8af3-0d60379e34db",
   "metadata": {},
   "source": [
    "#### Oppgave 1A)"
   ]
  },
  {
   "cell_type": "code",
   "execution_count": 6,
   "id": "5ad559b9-97d1-42de-bbd4-b16938d638df",
   "metadata": {},
   "outputs": [
    {
     "data": {
      "text/html": [
       "<div>\n",
       "<style scoped>\n",
       "    .dataframe tbody tr th:only-of-type {\n",
       "        vertical-align: middle;\n",
       "    }\n",
       "\n",
       "    .dataframe tbody tr th {\n",
       "        vertical-align: top;\n",
       "    }\n",
       "\n",
       "    .dataframe thead th {\n",
       "        text-align: right;\n",
       "    }\n",
       "</style>\n",
       "<table border=\"1\" class=\"dataframe\">\n",
       "  <thead>\n",
       "    <tr style=\"text-align: right;\">\n",
       "      <th></th>\n",
       "      <th>Year</th>\n",
       "      <th>log q</th>\n",
       "      <th>log h</th>\n",
       "      <th>log p</th>\n",
       "      <th>log p_c</th>\n",
       "      <th>log p_v</th>\n",
       "      <th>log w</th>\n",
       "      <th>log n</th>\n",
       "      <th>log(y/n)</th>\n",
       "      <th>log p_f</th>\n",
       "      <th>p</th>\n",
       "      <th>h</th>\n",
       "      <th>q</th>\n",
       "    </tr>\n",
       "  </thead>\n",
       "  <tbody>\n",
       "    <tr>\n",
       "      <th>0</th>\n",
       "      <td>1930</td>\n",
       "      <td>4.448623</td>\n",
       "      <td>4.379545</td>\n",
       "      <td>4.761777</td>\n",
       "      <td>2.247338</td>\n",
       "      <td>0.845054</td>\n",
       "      <td>3.366401</td>\n",
       "      <td>4.812434</td>\n",
       "      <td>6.403531</td>\n",
       "      <td>2.535163</td>\n",
       "      <td>116.953544</td>\n",
       "      <td>79.801731</td>\n",
       "      <td>85.509134</td>\n",
       "    </tr>\n",
       "    <tr>\n",
       "      <th>1</th>\n",
       "      <td>1931</td>\n",
       "      <td>4.356519</td>\n",
       "      <td>4.333493</td>\n",
       "      <td>4.614410</td>\n",
       "      <td>1.733858</td>\n",
       "      <td>2.726278</td>\n",
       "      <td>3.136141</td>\n",
       "      <td>4.819342</td>\n",
       "      <td>6.244651</td>\n",
       "      <td>2.546676</td>\n",
       "      <td>100.928304</td>\n",
       "      <td>76.210039</td>\n",
       "      <td>77.985211</td>\n",
       "    </tr>\n",
       "    <tr>\n",
       "      <th>2</th>\n",
       "      <td>1932</td>\n",
       "      <td>4.204548</td>\n",
       "      <td>4.054879</td>\n",
       "      <td>4.368032</td>\n",
       "      <td>1.874316</td>\n",
       "      <td>2.588122</td>\n",
       "      <td>2.832198</td>\n",
       "      <td>4.826250</td>\n",
       "      <td>5.966037</td>\n",
       "      <td>2.599635</td>\n",
       "      <td>78.888243</td>\n",
       "      <td>57.678160</td>\n",
       "      <td>66.990284</td>\n",
       "    </tr>\n",
       "    <tr>\n",
       "      <th>3</th>\n",
       "      <td>1933</td>\n",
       "      <td>4.031853</td>\n",
       "      <td>4.008827</td>\n",
       "      <td>4.531517</td>\n",
       "      <td>2.318718</td>\n",
       "      <td>2.286482</td>\n",
       "      <td>2.772330</td>\n",
       "      <td>4.833157</td>\n",
       "      <td>5.896959</td>\n",
       "      <td>2.645687</td>\n",
       "      <td>92.899364</td>\n",
       "      <td>55.082199</td>\n",
       "      <td>56.365237</td>\n",
       "    </tr>\n",
       "    <tr>\n",
       "      <th>4</th>\n",
       "      <td>1934</td>\n",
       "      <td>4.096325</td>\n",
       "      <td>4.094023</td>\n",
       "      <td>4.644344</td>\n",
       "      <td>2.514439</td>\n",
       "      <td>1.475967</td>\n",
       "      <td>2.917394</td>\n",
       "      <td>4.840065</td>\n",
       "      <td>6.018996</td>\n",
       "      <td>2.624964</td>\n",
       "      <td>103.995143</td>\n",
       "      <td>59.980697</td>\n",
       "      <td>60.118968</td>\n",
       "    </tr>\n",
       "    <tr>\n",
       "      <th>5</th>\n",
       "      <td>1935</td>\n",
       "      <td>4.195337</td>\n",
       "      <td>4.156193</td>\n",
       "      <td>4.563753</td>\n",
       "      <td>2.406217</td>\n",
       "      <td>1.892737</td>\n",
       "      <td>2.970354</td>\n",
       "      <td>4.844670</td>\n",
       "      <td>6.129521</td>\n",
       "      <td>2.710160</td>\n",
       "      <td>95.942898</td>\n",
       "      <td>63.828066</td>\n",
       "      <td>66.376110</td>\n",
       "    </tr>\n",
       "    <tr>\n",
       "      <th>6</th>\n",
       "      <td>1936</td>\n",
       "      <td>4.135470</td>\n",
       "      <td>4.128562</td>\n",
       "      <td>4.851578</td>\n",
       "      <td>2.514439</td>\n",
       "      <td>1.897342</td>\n",
       "      <td>2.995683</td>\n",
       "      <td>4.853881</td>\n",
       "      <td>6.246954</td>\n",
       "      <td>2.703252</td>\n",
       "      <td>127.942149</td>\n",
       "      <td>62.088563</td>\n",
       "      <td>62.518943</td>\n",
       "    </tr>\n",
       "    <tr>\n",
       "      <th>7</th>\n",
       "      <td>1937</td>\n",
       "      <td>4.262113</td>\n",
       "      <td>4.225271</td>\n",
       "      <td>4.662765</td>\n",
       "      <td>2.129905</td>\n",
       "      <td>2.079248</td>\n",
       "      <td>3.113115</td>\n",
       "      <td>4.858486</td>\n",
       "      <td>6.311427</td>\n",
       "      <td>2.705555</td>\n",
       "      <td>105.928570</td>\n",
       "      <td>68.393036</td>\n",
       "      <td>70.959735</td>\n",
       "    </tr>\n",
       "    <tr>\n",
       "      <th>8</th>\n",
       "      <td>1938</td>\n",
       "      <td>4.259810</td>\n",
       "      <td>4.202245</td>\n",
       "      <td>4.690396</td>\n",
       "      <td>2.150628</td>\n",
       "      <td>3.044037</td>\n",
       "      <td>3.090089</td>\n",
       "      <td>4.865394</td>\n",
       "      <td>6.226230</td>\n",
       "      <td>2.753910</td>\n",
       "      <td>108.896316</td>\n",
       "      <td>66.836210</td>\n",
       "      <td>70.796531</td>\n",
       "    </tr>\n",
       "    <tr>\n",
       "      <th>9</th>\n",
       "      <td>1939</td>\n",
       "      <td>4.144680</td>\n",
       "      <td>4.137772</td>\n",
       "      <td>4.777895</td>\n",
       "      <td>2.208193</td>\n",
       "      <td>1.701621</td>\n",
       "      <td>3.113115</td>\n",
       "      <td>4.874604</td>\n",
       "      <td>6.288401</td>\n",
       "      <td>2.691739</td>\n",
       "      <td>118.853899</td>\n",
       "      <td>62.663065</td>\n",
       "      <td>63.097427</td>\n",
       "    </tr>\n",
       "    <tr>\n",
       "      <th>10</th>\n",
       "      <td>1940</td>\n",
       "      <td>4.345006</td>\n",
       "      <td>4.282836</td>\n",
       "      <td>4.690396</td>\n",
       "      <td>2.291087</td>\n",
       "      <td>2.535163</td>\n",
       "      <td>3.136141</td>\n",
       "      <td>4.883815</td>\n",
       "      <td>6.355176</td>\n",
       "      <td>2.753910</td>\n",
       "      <td>108.896316</td>\n",
       "      <td>72.445605</td>\n",
       "      <td>77.092515</td>\n",
       "    </tr>\n",
       "    <tr>\n",
       "      <th>11</th>\n",
       "      <td>1941</td>\n",
       "      <td>4.165403</td>\n",
       "      <td>4.165403</td>\n",
       "      <td>4.897630</td>\n",
       "      <td>2.834501</td>\n",
       "      <td>3.161470</td>\n",
       "      <td>3.295021</td>\n",
       "      <td>4.893025</td>\n",
       "      <td>6.546292</td>\n",
       "      <td>2.758515</td>\n",
       "      <td>133.971917</td>\n",
       "      <td>64.418664</td>\n",
       "      <td>64.418664</td>\n",
       "    </tr>\n",
       "    <tr>\n",
       "      <th>12</th>\n",
       "      <td>1942</td>\n",
       "      <td>4.034155</td>\n",
       "      <td>4.034155</td>\n",
       "      <td>5.480188</td>\n",
       "      <td>2.947328</td>\n",
       "      <td>3.893697</td>\n",
       "      <td>3.525281</td>\n",
       "      <td>4.904538</td>\n",
       "      <td>6.769644</td>\n",
       "      <td>2.744699</td>\n",
       "      <td>239.891803</td>\n",
       "      <td>56.495173</td>\n",
       "      <td>56.495173</td>\n",
       "    </tr>\n",
       "    <tr>\n",
       "      <th>13</th>\n",
       "      <td>1943</td>\n",
       "      <td>3.882184</td>\n",
       "      <td>3.882184</td>\n",
       "      <td>6.097285</td>\n",
       "      <td>2.988775</td>\n",
       "      <td>3.642713</td>\n",
       "      <td>3.794685</td>\n",
       "      <td>4.918354</td>\n",
       "      <td>6.884774</td>\n",
       "      <td>2.643385</td>\n",
       "      <td>444.648819</td>\n",
       "      <td>48.530070</td>\n",
       "      <td>48.530070</td>\n",
       "    </tr>\n",
       "    <tr>\n",
       "      <th>14</th>\n",
       "      <td>1944</td>\n",
       "      <td>4.259810</td>\n",
       "      <td>4.259810</td>\n",
       "      <td>5.908472</td>\n",
       "      <td>3.032524</td>\n",
       "      <td>2.390099</td>\n",
       "      <td>3.988103</td>\n",
       "      <td>4.929867</td>\n",
       "      <td>6.965365</td>\n",
       "      <td>2.634174</td>\n",
       "      <td>368.143055</td>\n",
       "      <td>70.796531</td>\n",
       "      <td>70.796531</td>\n",
       "    </tr>\n",
       "    <tr>\n",
       "      <th>15</th>\n",
       "      <td>1945</td>\n",
       "      <td>4.289744</td>\n",
       "      <td>4.289744</td>\n",
       "      <td>6.016694</td>\n",
       "      <td>3.115418</td>\n",
       "      <td>1.853593</td>\n",
       "      <td>4.126259</td>\n",
       "      <td>4.941380</td>\n",
       "      <td>6.979181</td>\n",
       "      <td>2.696345</td>\n",
       "      <td>410.220082</td>\n",
       "      <td>72.947777</td>\n",
       "      <td>72.947777</td>\n",
       "    </tr>\n",
       "    <tr>\n",
       "      <th>16</th>\n",
       "      <td>1946</td>\n",
       "      <td>4.393361</td>\n",
       "      <td>4.388756</td>\n",
       "      <td>5.949918</td>\n",
       "      <td>3.486136</td>\n",
       "      <td>3.430874</td>\n",
       "      <td>4.262113</td>\n",
       "      <td>4.950590</td>\n",
       "      <td>7.025233</td>\n",
       "      <td>2.694042</td>\n",
       "      <td>383.722026</td>\n",
       "      <td>80.540132</td>\n",
       "      <td>80.911891</td>\n",
       "    </tr>\n",
       "    <tr>\n",
       "      <th>17</th>\n",
       "      <td>1947</td>\n",
       "      <td>4.395663</td>\n",
       "      <td>4.326585</td>\n",
       "      <td>5.765710</td>\n",
       "      <td>3.463110</td>\n",
       "      <td>3.460808</td>\n",
       "      <td>4.331191</td>\n",
       "      <td>4.971313</td>\n",
       "      <td>7.066679</td>\n",
       "      <td>2.869040</td>\n",
       "      <td>319.165699</td>\n",
       "      <td>75.685409</td>\n",
       "      <td>81.098414</td>\n",
       "    </tr>\n",
       "    <tr>\n",
       "      <th>18</th>\n",
       "      <td>1948</td>\n",
       "      <td>4.301257</td>\n",
       "      <td>4.301257</td>\n",
       "      <td>5.963734</td>\n",
       "      <td>3.414756</td>\n",
       "      <td>3.981195</td>\n",
       "      <td>4.381848</td>\n",
       "      <td>4.987432</td>\n",
       "      <td>7.154178</td>\n",
       "      <td>3.087787</td>\n",
       "      <td>389.060166</td>\n",
       "      <td>73.792478</td>\n",
       "      <td>73.792478</td>\n",
       "    </tr>\n",
       "    <tr>\n",
       "      <th>19</th>\n",
       "      <td>1949</td>\n",
       "      <td>4.361124</td>\n",
       "      <td>4.358822</td>\n",
       "      <td>5.742684</td>\n",
       "      <td>3.352586</td>\n",
       "      <td>2.733186</td>\n",
       "      <td>4.356519</td>\n",
       "      <td>5.005852</td>\n",
       "      <td>7.140363</td>\n",
       "      <td>3.168378</td>\n",
       "      <td>311.900554</td>\n",
       "      <td>78.164986</td>\n",
       "      <td>78.345176</td>\n",
       "    </tr>\n",
       "    <tr>\n",
       "      <th>20</th>\n",
       "      <td>1950</td>\n",
       "      <td>4.411782</td>\n",
       "      <td>4.326585</td>\n",
       "      <td>5.777223</td>\n",
       "      <td>3.691068</td>\n",
       "      <td>1.883527</td>\n",
       "      <td>4.370335</td>\n",
       "      <td>5.021971</td>\n",
       "      <td>7.214046</td>\n",
       "      <td>3.219035</td>\n",
       "      <td>322.861488</td>\n",
       "      <td>75.685409</td>\n",
       "      <td>82.416165</td>\n",
       "    </tr>\n",
       "    <tr>\n",
       "      <th>21</th>\n",
       "      <td>1951</td>\n",
       "      <td>4.423295</td>\n",
       "      <td>4.414084</td>\n",
       "      <td>5.910774</td>\n",
       "      <td>3.635805</td>\n",
       "      <td>NaN</td>\n",
       "      <td>NaN</td>\n",
       "      <td>5.040391</td>\n",
       "      <td>7.290032</td>\n",
       "      <td>3.267389</td>\n",
       "      <td>368.991718</td>\n",
       "      <td>82.606156</td>\n",
       "      <td>83.370506</td>\n",
       "    </tr>\n",
       "  </tbody>\n",
       "</table>\n",
       "</div>"
      ],
      "text/plain": [
       "    Year     log q     log h     log p   log p_c   log p_v     log w  \\\n",
       "0   1930  4.448623  4.379545  4.761777  2.247338  0.845054  3.366401   \n",
       "1   1931  4.356519  4.333493  4.614410  1.733858  2.726278  3.136141   \n",
       "2   1932  4.204548  4.054879  4.368032  1.874316  2.588122  2.832198   \n",
       "3   1933  4.031853  4.008827  4.531517  2.318718  2.286482  2.772330   \n",
       "4   1934  4.096325  4.094023  4.644344  2.514439  1.475967  2.917394   \n",
       "5   1935  4.195337  4.156193  4.563753  2.406217  1.892737  2.970354   \n",
       "6   1936  4.135470  4.128562  4.851578  2.514439  1.897342  2.995683   \n",
       "7   1937  4.262113  4.225271  4.662765  2.129905  2.079248  3.113115   \n",
       "8   1938  4.259810  4.202245  4.690396  2.150628  3.044037  3.090089   \n",
       "9   1939  4.144680  4.137772  4.777895  2.208193  1.701621  3.113115   \n",
       "10  1940  4.345006  4.282836  4.690396  2.291087  2.535163  3.136141   \n",
       "11  1941  4.165403  4.165403  4.897630  2.834501  3.161470  3.295021   \n",
       "12  1942  4.034155  4.034155  5.480188  2.947328  3.893697  3.525281   \n",
       "13  1943  3.882184  3.882184  6.097285  2.988775  3.642713  3.794685   \n",
       "14  1944  4.259810  4.259810  5.908472  3.032524  2.390099  3.988103   \n",
       "15  1945  4.289744  4.289744  6.016694  3.115418  1.853593  4.126259   \n",
       "16  1946  4.393361  4.388756  5.949918  3.486136  3.430874  4.262113   \n",
       "17  1947  4.395663  4.326585  5.765710  3.463110  3.460808  4.331191   \n",
       "18  1948  4.301257  4.301257  5.963734  3.414756  3.981195  4.381848   \n",
       "19  1949  4.361124  4.358822  5.742684  3.352586  2.733186  4.356519   \n",
       "20  1950  4.411782  4.326585  5.777223  3.691068  1.883527  4.370335   \n",
       "21  1951  4.423295  4.414084  5.910774  3.635805       NaN       NaN   \n",
       "\n",
       "       log n  log(y/n)   log p_f           p          h          q  \n",
       "0   4.812434  6.403531  2.535163  116.953544  79.801731  85.509134  \n",
       "1   4.819342  6.244651  2.546676  100.928304  76.210039  77.985211  \n",
       "2   4.826250  5.966037  2.599635   78.888243  57.678160  66.990284  \n",
       "3   4.833157  5.896959  2.645687   92.899364  55.082199  56.365237  \n",
       "4   4.840065  6.018996  2.624964  103.995143  59.980697  60.118968  \n",
       "5   4.844670  6.129521  2.710160   95.942898  63.828066  66.376110  \n",
       "6   4.853881  6.246954  2.703252  127.942149  62.088563  62.518943  \n",
       "7   4.858486  6.311427  2.705555  105.928570  68.393036  70.959735  \n",
       "8   4.865394  6.226230  2.753910  108.896316  66.836210  70.796531  \n",
       "9   4.874604  6.288401  2.691739  118.853899  62.663065  63.097427  \n",
       "10  4.883815  6.355176  2.753910  108.896316  72.445605  77.092515  \n",
       "11  4.893025  6.546292  2.758515  133.971917  64.418664  64.418664  \n",
       "12  4.904538  6.769644  2.744699  239.891803  56.495173  56.495173  \n",
       "13  4.918354  6.884774  2.643385  444.648819  48.530070  48.530070  \n",
       "14  4.929867  6.965365  2.634174  368.143055  70.796531  70.796531  \n",
       "15  4.941380  6.979181  2.696345  410.220082  72.947777  72.947777  \n",
       "16  4.950590  7.025233  2.694042  383.722026  80.540132  80.911891  \n",
       "17  4.971313  7.066679  2.869040  319.165699  75.685409  81.098414  \n",
       "18  4.987432  7.154178  3.087787  389.060166  73.792478  73.792478  \n",
       "19  5.005852  7.140363  3.168378  311.900554  78.164986  78.345176  \n",
       "20  5.021971  7.214046  3.219035  322.861488  75.685409  82.416165  \n",
       "21  5.040391  7.290032  3.267389  368.991718  82.606156  83.370506  "
      ]
     },
     "execution_count": 6,
     "metadata": {},
     "output_type": "execute_result"
    }
   ],
   "source": [
    "# Bruker exp funksjonen i numpy for å lage variablene \"p\", \"h\" og \"q\".\n",
    "df_1[\"p\"] = np.exp(df_1[\"log p\"])\n",
    "df_1[\"h\"] = np.exp(df_1[\"log h\"])\n",
    "df_1[\"q\"] = np.exp(df_1[\"log q\"])\n",
    "\n",
    "# Viser dataen.\n",
    "df_1"
   ]
  },
  {
   "cell_type": "markdown",
   "id": "ddf469bb-0c21-4a34-960d-2eef181e9a2a",
   "metadata": {},
   "source": [
    "<hr/>"
   ]
  },
  {
   "cell_type": "markdown",
   "id": "bd122b85-5b37-49d7-8c80-ef0b12636203",
   "metadata": {},
   "source": [
    "#### Oppgave 1B)"
   ]
  },
  {
   "cell_type": "code",
   "execution_count": 4,
   "id": "28e43032-1eeb-4846-bb1d-20603880d618",
   "metadata": {},
   "outputs": [
    {
     "data": {
      "text/plain": [
       "<matplotlib.legend.Legend at 0x7fc41d843ac0>"
      ]
     },
     "execution_count": 4,
     "metadata": {},
     "output_type": "execute_result"
    },
    {
     "data": {
      "image/png": "[encoded data removed]",
      "text/plain": [
       "<Figure size 2000x500 with 2 Axes>"
      ]
     },
     "metadata": {},
     "output_type": "display_data"
    }
   ],
   "source": [
    "# Definerer at jeg ønsker to forskjellige figurer ved siden av hverandre.\n",
    "fig_1, (ax1, ax2) = plt.subplots(1,2, sharey = False, figsize=(20,5))\n",
    "\n",
    "# Gir aksene navn.\n",
    "ax1.set_ylabel('Price', size = 15)\n",
    "ax2.set_ylabel('Price', size = 15)\n",
    "ax1.set_xlabel('Year', size = 15)\n",
    "ax2.set_xlabel('Year', size = 15)\n",
    "\n",
    "# Plotter grafene.\n",
    "ax1.plot(df_1[\"Year\"], df_1[\"p\"], color = \"black\", label = \"price\",   marker = \"o\")\n",
    "ax2.plot(df_1[\"Year\"], df_1[\"h\"], color = \"black\", label = \"harvest\", marker = \"o\")\n",
    "ax2.plot(df_1[\"Year\"], df_1[\"q\"], color = \"black\", label = \"crop\",    marker = \"o\", linestyle = \"--\", alpha = 0.3)\n",
    "\n",
    "# Gir figurene en legend.\n",
    "ax1.legend(loc = \"lower right\")\n",
    "ax2.legend(loc = \"lower right\")"
   ]
  },
  {
   "cell_type": "markdown",
   "id": "da78b603-d9f8-4501-a969-c0d87383aa76",
   "metadata": {},
   "source": [
    "<hr/>"
   ]
  },
  {
   "cell_type": "markdown",
   "id": "6209a5b2-370d-451c-b8a9-4f6f051c0a6a",
   "metadata": {},
   "source": [
    "#### Oppgave 2A)"
   ]
  },
  {
   "cell_type": "code",
   "execution_count": 5,
   "id": "6eb4e278-d28d-4b69-b791-c8b9c0d6d158",
   "metadata": {},
   "outputs": [],
   "source": [
    "# Lager en liste som inneholder tallene 20-100 med 5 mellom hvert intervall.\n",
    "Q = list(range(20,101,5))"
   ]
  },
  {
   "cell_type": "code",
   "execution_count": 6,
   "id": "8b762a52-f0ad-48d9-bf8c-b5d80ab7a9ec",
   "metadata": {},
   "outputs": [
    {
     "data": {
      "text/html": [
       "<div>\n",
       "<style scoped>\n",
       "    .dataframe tbody tr th:only-of-type {\n",
       "        vertical-align: middle;\n",
       "    }\n",
       "\n",
       "    .dataframe tbody tr th {\n",
       "        vertical-align: top;\n",
       "    }\n",
       "\n",
       "    .dataframe thead th {\n",
       "        text-align: right;\n",
       "    }\n",
       "</style>\n",
       "<table border=\"1\" class=\"dataframe\">\n",
       "  <thead>\n",
       "    <tr style=\"text-align: right;\">\n",
       "      <th></th>\n",
       "      <th>Q</th>\n",
       "    </tr>\n",
       "  </thead>\n",
       "  <tbody>\n",
       "    <tr>\n",
       "      <th>0</th>\n",
       "      <td>20</td>\n",
       "    </tr>\n",
       "    <tr>\n",
       "      <th>1</th>\n",
       "      <td>25</td>\n",
       "    </tr>\n",
       "    <tr>\n",
       "      <th>2</th>\n",
       "      <td>30</td>\n",
       "    </tr>\n",
       "    <tr>\n",
       "      <th>3</th>\n",
       "      <td>35</td>\n",
       "    </tr>\n",
       "    <tr>\n",
       "      <th>4</th>\n",
       "      <td>40</td>\n",
       "    </tr>\n",
       "    <tr>\n",
       "      <th>5</th>\n",
       "      <td>45</td>\n",
       "    </tr>\n",
       "    <tr>\n",
       "      <th>6</th>\n",
       "      <td>50</td>\n",
       "    </tr>\n",
       "    <tr>\n",
       "      <th>7</th>\n",
       "      <td>55</td>\n",
       "    </tr>\n",
       "    <tr>\n",
       "      <th>8</th>\n",
       "      <td>60</td>\n",
       "    </tr>\n",
       "    <tr>\n",
       "      <th>9</th>\n",
       "      <td>65</td>\n",
       "    </tr>\n",
       "    <tr>\n",
       "      <th>10</th>\n",
       "      <td>70</td>\n",
       "    </tr>\n",
       "    <tr>\n",
       "      <th>11</th>\n",
       "      <td>75</td>\n",
       "    </tr>\n",
       "    <tr>\n",
       "      <th>12</th>\n",
       "      <td>80</td>\n",
       "    </tr>\n",
       "    <tr>\n",
       "      <th>13</th>\n",
       "      <td>85</td>\n",
       "    </tr>\n",
       "    <tr>\n",
       "      <th>14</th>\n",
       "      <td>90</td>\n",
       "    </tr>\n",
       "    <tr>\n",
       "      <th>15</th>\n",
       "      <td>95</td>\n",
       "    </tr>\n",
       "    <tr>\n",
       "      <th>16</th>\n",
       "      <td>100</td>\n",
       "    </tr>\n",
       "  </tbody>\n",
       "</table>\n",
       "</div>"
      ],
      "text/plain": [
       "      Q\n",
       "0    20\n",
       "1    25\n",
       "2    30\n",
       "3    35\n",
       "4    40\n",
       "5    45\n",
       "6    50\n",
       "7    55\n",
       "8    60\n",
       "9    65\n",
       "10   70\n",
       "11   75\n",
       "12   80\n",
       "13   85\n",
       "14   90\n",
       "15   95\n",
       "16  100"
      ]
     },
     "execution_count": 6,
     "metadata": {},
     "output_type": "execute_result"
    }
   ],
   "source": [
    "# Lager en ny dataframe som skal brukes til å beregne tilbud og etterspørsel.\n",
    "df_2 = pd.DataFrame(Q, columns = [\"Q\"])\n",
    "\n",
    "# Viser dataframen. \n",
    "df_2"
   ]
  },
  {
   "cell_type": "markdown",
   "id": "88dc2181-5b05-4fb1-a59c-858362e88430",
   "metadata": {},
   "source": [
    "<hr/>"
   ]
  },
  {
   "cell_type": "markdown",
   "id": "829857ba-e92c-4e59-87ef-2a0023082bc7",
   "metadata": {},
   "source": [
    "#### Oppgave 2B)"
   ]
  },
  {
   "cell_type": "code",
   "execution_count": 7,
   "id": "09c6b76e-abe4-49d9-a723-a92efed7900f",
   "metadata": {},
   "outputs": [
    {
     "data": {
      "text/html": [
       "<div>\n",
       "<style scoped>\n",
       "    .dataframe tbody tr th:only-of-type {\n",
       "        vertical-align: middle;\n",
       "    }\n",
       "\n",
       "    .dataframe tbody tr th {\n",
       "        vertical-align: top;\n",
       "    }\n",
       "\n",
       "    .dataframe thead th {\n",
       "        text-align: right;\n",
       "    }\n",
       "</style>\n",
       "<table border=\"1\" class=\"dataframe\">\n",
       "  <thead>\n",
       "    <tr style=\"text-align: right;\">\n",
       "      <th></th>\n",
       "      <th>Q</th>\n",
       "      <th>Log Q</th>\n",
       "      <th>Supply (log P)</th>\n",
       "      <th>Demand (log P)</th>\n",
       "    </tr>\n",
       "  </thead>\n",
       "  <tbody>\n",
       "    <tr>\n",
       "      <th>0</th>\n",
       "      <td>20</td>\n",
       "      <td>2.995732</td>\n",
       "      <td>3.092745</td>\n",
       "      <td>6.043500</td>\n",
       "    </tr>\n",
       "    <tr>\n",
       "      <th>1</th>\n",
       "      <td>25</td>\n",
       "      <td>3.218876</td>\n",
       "      <td>3.472089</td>\n",
       "      <td>5.860522</td>\n",
       "    </tr>\n",
       "    <tr>\n",
       "      <th>2</th>\n",
       "      <td>30</td>\n",
       "      <td>3.401197</td>\n",
       "      <td>3.782036</td>\n",
       "      <td>5.711018</td>\n",
       "    </tr>\n",
       "    <tr>\n",
       "      <th>3</th>\n",
       "      <td>35</td>\n",
       "      <td>3.555348</td>\n",
       "      <td>4.044092</td>\n",
       "      <td>5.584615</td>\n",
       "    </tr>\n",
       "    <tr>\n",
       "      <th>4</th>\n",
       "      <td>40</td>\n",
       "      <td>3.688879</td>\n",
       "      <td>4.271095</td>\n",
       "      <td>5.475119</td>\n",
       "    </tr>\n",
       "    <tr>\n",
       "      <th>5</th>\n",
       "      <td>45</td>\n",
       "      <td>3.806662</td>\n",
       "      <td>4.471326</td>\n",
       "      <td>5.378537</td>\n",
       "    </tr>\n",
       "    <tr>\n",
       "      <th>6</th>\n",
       "      <td>50</td>\n",
       "      <td>3.912023</td>\n",
       "      <td>4.650439</td>\n",
       "      <td>5.292141</td>\n",
       "    </tr>\n",
       "    <tr>\n",
       "      <th>7</th>\n",
       "      <td>55</td>\n",
       "      <td>4.007333</td>\n",
       "      <td>4.812466</td>\n",
       "      <td>5.213987</td>\n",
       "    </tr>\n",
       "    <tr>\n",
       "      <th>8</th>\n",
       "      <td>60</td>\n",
       "      <td>4.094345</td>\n",
       "      <td>4.960386</td>\n",
       "      <td>5.142637</td>\n",
       "    </tr>\n",
       "    <tr>\n",
       "      <th>9</th>\n",
       "      <td>65</td>\n",
       "      <td>4.174387</td>\n",
       "      <td>5.096458</td>\n",
       "      <td>5.077002</td>\n",
       "    </tr>\n",
       "    <tr>\n",
       "      <th>10</th>\n",
       "      <td>70</td>\n",
       "      <td>4.248495</td>\n",
       "      <td>5.222442</td>\n",
       "      <td>5.016234</td>\n",
       "    </tr>\n",
       "    <tr>\n",
       "      <th>11</th>\n",
       "      <td>75</td>\n",
       "      <td>4.317488</td>\n",
       "      <td>5.339730</td>\n",
       "      <td>4.959660</td>\n",
       "    </tr>\n",
       "    <tr>\n",
       "      <th>12</th>\n",
       "      <td>80</td>\n",
       "      <td>4.382027</td>\n",
       "      <td>5.449445</td>\n",
       "      <td>4.906738</td>\n",
       "    </tr>\n",
       "    <tr>\n",
       "      <th>13</th>\n",
       "      <td>85</td>\n",
       "      <td>4.442651</td>\n",
       "      <td>5.552507</td>\n",
       "      <td>4.857026</td>\n",
       "    </tr>\n",
       "    <tr>\n",
       "      <th>14</th>\n",
       "      <td>90</td>\n",
       "      <td>4.499810</td>\n",
       "      <td>5.649676</td>\n",
       "      <td>4.810156</td>\n",
       "    </tr>\n",
       "    <tr>\n",
       "      <th>15</th>\n",
       "      <td>95</td>\n",
       "      <td>4.553877</td>\n",
       "      <td>5.741591</td>\n",
       "      <td>4.765821</td>\n",
       "    </tr>\n",
       "    <tr>\n",
       "      <th>16</th>\n",
       "      <td>100</td>\n",
       "      <td>4.605170</td>\n",
       "      <td>5.828789</td>\n",
       "      <td>4.723760</td>\n",
       "    </tr>\n",
       "  </tbody>\n",
       "</table>\n",
       "</div>"
      ],
      "text/plain": [
       "      Q     Log Q  Supply (log P)  Demand (log P)\n",
       "0    20  2.995732        3.092745        6.043500\n",
       "1    25  3.218876        3.472089        5.860522\n",
       "2    30  3.401197        3.782036        5.711018\n",
       "3    35  3.555348        4.044092        5.584615\n",
       "4    40  3.688879        4.271095        5.475119\n",
       "5    45  3.806662        4.471326        5.378537\n",
       "6    50  3.912023        4.650439        5.292141\n",
       "7    55  4.007333        4.812466        5.213987\n",
       "8    60  4.094345        4.960386        5.142637\n",
       "9    65  4.174387        5.096458        5.077002\n",
       "10   70  4.248495        5.222442        5.016234\n",
       "11   75  4.317488        5.339730        4.959660\n",
       "12   80  4.382027        5.449445        4.906738\n",
       "13   85  4.442651        5.552507        4.857026\n",
       "14   90  4.499810        5.649676        4.810156\n",
       "15   95  4.553877        5.741591        4.765821\n",
       "16  100  4.605170        5.828789        4.723760"
      ]
     },
     "execution_count": 7,
     "metadata": {},
     "output_type": "execute_result"
    }
   ],
   "source": [
    "# Bruker log funksjonen i numpy til å regne ut log av Q.\n",
    "df_2[\"Log Q\"] = np.log(df_2[\"Q\"])\n",
    "\n",
    "# Bruker formlene fra oppgaven til å regne ut supply (log P) og demand (log P).\n",
    "df_2[\"Supply (log P)\"] = -2 + 1.7   * df_2[\"Log Q\"]\n",
    "df_2[\"Demand (log P)\"] = 8.5 - 0.82 * df_2[\"Log Q\"]\n",
    "\n",
    "# Viser dataframen. \n",
    "df_2"
   ]
  },
  {
   "cell_type": "markdown",
   "id": "b6b05be9-1bc5-47c8-bbe9-85a4907b73c6",
   "metadata": {},
   "source": [
    "<hr/>"
   ]
  },
  {
   "cell_type": "markdown",
   "id": "5098bbf2-b547-4e29-bf45-bde3a7338dd8",
   "metadata": {},
   "source": [
    "#### Oppgave 2C)"
   ]
  },
  {
   "cell_type": "code",
   "execution_count": 8,
   "id": "dd83013c-d343-4cb4-9080-eadefd05ebae",
   "metadata": {},
   "outputs": [
    {
     "data": {
      "text/html": [
       "<div>\n",
       "<style scoped>\n",
       "    .dataframe tbody tr th:only-of-type {\n",
       "        vertical-align: middle;\n",
       "    }\n",
       "\n",
       "    .dataframe tbody tr th {\n",
       "        vertical-align: top;\n",
       "    }\n",
       "\n",
       "    .dataframe thead th {\n",
       "        text-align: right;\n",
       "    }\n",
       "</style>\n",
       "<table border=\"1\" class=\"dataframe\">\n",
       "  <thead>\n",
       "    <tr style=\"text-align: right;\">\n",
       "      <th></th>\n",
       "      <th>Q</th>\n",
       "      <th>Log Q</th>\n",
       "      <th>Supply (log P)</th>\n",
       "      <th>Demand (log P)</th>\n",
       "      <th>Supply (P)</th>\n",
       "      <th>Demand (P)</th>\n",
       "    </tr>\n",
       "  </thead>\n",
       "  <tbody>\n",
       "    <tr>\n",
       "      <th>0</th>\n",
       "      <td>20</td>\n",
       "      <td>2.995732</td>\n",
       "      <td>3.092745</td>\n",
       "      <td>6.043500</td>\n",
       "      <td>22.037485</td>\n",
       "      <td>421.365040</td>\n",
       "    </tr>\n",
       "    <tr>\n",
       "      <th>1</th>\n",
       "      <td>25</td>\n",
       "      <td>3.218876</td>\n",
       "      <td>3.472089</td>\n",
       "      <td>5.860522</td>\n",
       "      <td>32.203943</td>\n",
       "      <td>350.907208</td>\n",
       "    </tr>\n",
       "    <tr>\n",
       "      <th>2</th>\n",
       "      <td>30</td>\n",
       "      <td>3.401197</td>\n",
       "      <td>3.782036</td>\n",
       "      <td>5.711018</td>\n",
       "      <td>43.905322</td>\n",
       "      <td>302.178574</td>\n",
       "    </tr>\n",
       "    <tr>\n",
       "      <th>3</th>\n",
       "      <td>35</td>\n",
       "      <td>3.555348</td>\n",
       "      <td>4.044092</td>\n",
       "      <td>5.584615</td>\n",
       "      <td>57.059336</td>\n",
       "      <td>266.297629</td>\n",
       "    </tr>\n",
       "    <tr>\n",
       "      <th>4</th>\n",
       "      <td>40</td>\n",
       "      <td>3.688879</td>\n",
       "      <td>4.271095</td>\n",
       "      <td>5.475119</td>\n",
       "      <td>71.600000</td>\n",
       "      <td>238.678832</td>\n",
       "    </tr>\n",
       "    <tr>\n",
       "      <th>5</th>\n",
       "      <td>45</td>\n",
       "      <td>3.806662</td>\n",
       "      <td>4.471326</td>\n",
       "      <td>5.378537</td>\n",
       "      <td>87.472655</td>\n",
       "      <td>216.704952</td>\n",
       "    </tr>\n",
       "    <tr>\n",
       "      <th>6</th>\n",
       "      <td>50</td>\n",
       "      <td>3.912023</td>\n",
       "      <td>4.650439</td>\n",
       "      <td>5.292141</td>\n",
       "      <td>104.630920</td>\n",
       "      <td>198.768561</td>\n",
       "    </tr>\n",
       "    <tr>\n",
       "      <th>7</th>\n",
       "      <td>55</td>\n",
       "      <td>4.007333</td>\n",
       "      <td>4.812466</td>\n",
       "      <td>5.213987</td>\n",
       "      <td>123.034698</td>\n",
       "      <td>183.825472</td>\n",
       "    </tr>\n",
       "    <tr>\n",
       "      <th>8</th>\n",
       "      <td>60</td>\n",
       "      <td>4.094345</td>\n",
       "      <td>4.960386</td>\n",
       "      <td>5.142637</td>\n",
       "      <td>142.648813</td>\n",
       "      <td>171.166618</td>\n",
       "    </tr>\n",
       "    <tr>\n",
       "      <th>9</th>\n",
       "      <td>65</td>\n",
       "      <td>4.174387</td>\n",
       "      <td>5.096458</td>\n",
       "      <td>5.077002</td>\n",
       "      <td>163.442028</td>\n",
       "      <td>160.292847</td>\n",
       "    </tr>\n",
       "    <tr>\n",
       "      <th>10</th>\n",
       "      <td>70</td>\n",
       "      <td>4.248495</td>\n",
       "      <td>5.222442</td>\n",
       "      <td>5.016234</td>\n",
       "      <td>185.386329</td>\n",
       "      <td>150.842146</td>\n",
       "    </tr>\n",
       "    <tr>\n",
       "      <th>11</th>\n",
       "      <td>75</td>\n",
       "      <td>4.317488</td>\n",
       "      <td>5.339730</td>\n",
       "      <td>4.959660</td>\n",
       "      <td>208.456376</td>\n",
       "      <td>142.545286</td>\n",
       "    </tr>\n",
       "    <tr>\n",
       "      <th>12</th>\n",
       "      <td>80</td>\n",
       "      <td>4.382027</td>\n",
       "      <td>5.449445</td>\n",
       "      <td>4.906738</td>\n",
       "      <td>232.629086</td>\n",
       "      <td>135.197701</td>\n",
       "    </tr>\n",
       "    <tr>\n",
       "      <th>13</th>\n",
       "      <td>85</td>\n",
       "      <td>4.442651</td>\n",
       "      <td>5.552507</td>\n",
       "      <td>4.857026</td>\n",
       "      <td>257.883295</td>\n",
       "      <td>128.641050</td>\n",
       "    </tr>\n",
       "    <tr>\n",
       "      <th>14</th>\n",
       "      <td>90</td>\n",
       "      <td>4.499810</td>\n",
       "      <td>5.649676</td>\n",
       "      <td>4.810156</td>\n",
       "      <td>284.199495</td>\n",
       "      <td>122.750774</td>\n",
       "    </tr>\n",
       "    <tr>\n",
       "      <th>15</th>\n",
       "      <td>95</td>\n",
       "      <td>4.553877</td>\n",
       "      <td>5.741591</td>\n",
       "      <td>4.765821</td>\n",
       "      <td>311.559620</td>\n",
       "      <td>117.427480</td>\n",
       "    </tr>\n",
       "    <tr>\n",
       "      <th>16</th>\n",
       "      <td>100</td>\n",
       "      <td>4.605170</td>\n",
       "      <td>5.828789</td>\n",
       "      <td>4.723760</td>\n",
       "      <td>339.946862</td>\n",
       "      <td>112.590850</td>\n",
       "    </tr>\n",
       "  </tbody>\n",
       "</table>\n",
       "</div>"
      ],
      "text/plain": [
       "      Q     Log Q  Supply (log P)  Demand (log P)  Supply (P)  Demand (P)\n",
       "0    20  2.995732        3.092745        6.043500   22.037485  421.365040\n",
       "1    25  3.218876        3.472089        5.860522   32.203943  350.907208\n",
       "2    30  3.401197        3.782036        5.711018   43.905322  302.178574\n",
       "3    35  3.555348        4.044092        5.584615   57.059336  266.297629\n",
       "4    40  3.688879        4.271095        5.475119   71.600000  238.678832\n",
       "5    45  3.806662        4.471326        5.378537   87.472655  216.704952\n",
       "6    50  3.912023        4.650439        5.292141  104.630920  198.768561\n",
       "7    55  4.007333        4.812466        5.213987  123.034698  183.825472\n",
       "8    60  4.094345        4.960386        5.142637  142.648813  171.166618\n",
       "9    65  4.174387        5.096458        5.077002  163.442028  160.292847\n",
       "10   70  4.248495        5.222442        5.016234  185.386329  150.842146\n",
       "11   75  4.317488        5.339730        4.959660  208.456376  142.545286\n",
       "12   80  4.382027        5.449445        4.906738  232.629086  135.197701\n",
       "13   85  4.442651        5.552507        4.857026  257.883295  128.641050\n",
       "14   90  4.499810        5.649676        4.810156  284.199495  122.750774\n",
       "15   95  4.553877        5.741591        4.765821  311.559620  117.427480\n",
       "16  100  4.605170        5.828789        4.723760  339.946862  112.590850"
      ]
     },
     "execution_count": 8,
     "metadata": {},
     "output_type": "execute_result"
    }
   ],
   "source": [
    "# Bruker exp funksjonen i numpy til å konverterer \"supply (log P)\" og \"demand (log P)\" til faktiske priser.\n",
    "df_2[\"Supply (P)\"]  = np.exp(df_2[\"Supply (log P)\"])\n",
    "df_2[\"Demand (P)\"] = np.exp(df_2[\"Demand (log P)\"])\n",
    "\n",
    "# Viser dataframen.\n",
    "df_2"
   ]
  },
  {
   "cell_type": "markdown",
   "id": "47240049-901a-4fc5-8aaa-4c7e94699ba2",
   "metadata": {},
   "source": [
    "<hr/>"
   ]
  },
  {
   "cell_type": "markdown",
   "id": "2dd31147-20ec-4b17-91b7-6901d0240d60",
   "metadata": {},
   "source": [
    "#### Oppgave 2D)"
   ]
  },
  {
   "cell_type": "code",
   "execution_count": 9,
   "id": "2c6722c2-0b4b-41d6-ab4c-a029f6f77206",
   "metadata": {},
   "outputs": [
    {
     "data": {
      "text/plain": [
       "<matplotlib.legend.Legend at 0x7fc41d825e80>"
      ]
     },
     "execution_count": 9,
     "metadata": {},
     "output_type": "execute_result"
    },
    {
     "data": {
      "image/png": "[encoded data removed]",
      "text/plain": [
       "<Figure size 640x480 with 1 Axes>"
      ]
     },
     "metadata": {},
     "output_type": "display_data"
    }
   ],
   "source": [
    "# Lager subplot slik at jeg enkelt kan redigere det senere.\n",
    "fig_2, ax = plt.subplots()\n",
    "\n",
    "# Gir aksene navn.\n",
    "ax.set_ylabel(\"Price (P)\")\n",
    "ax.set_xlabel(\"Quantity (Q)\")\n",
    "\n",
    "# Plotter grafene.\n",
    "ax.plot(df_2[\"Q\"], df_2[\"Supply (P)\"], color = \"green\",  label = \"Supply\")\n",
    "ax.plot(df_2[\"Q\"], df_2[\"Demand (P)\"], color = \"orange\", label = \"Demand\")\n",
    "\n",
    "# Gir figuren en tittel.\n",
    "ax.set_title(\"Supply & Demand for Watermelons\")\n",
    "\n",
    "# Gir figuren en legend.\n",
    "ax.legend(loc = \"upper right\")"
   ]
  },
  {
   "cell_type": "markdown",
   "id": "ba0e0f5b-508c-49c2-a328-e0965b58d20d",
   "metadata": {},
   "source": [
    "<hr/>"
   ]
  },
  {
   "cell_type": "markdown",
   "id": "ce4e9be9-954e-46bb-9b2c-866630c708fa",
   "metadata": {},
   "source": [
    "#### Oppgave 3A)"
   ]
  },
  {
   "cell_type": "code",
   "execution_count": 10,
   "id": "2561a5f6-cb7a-408e-baab-0ed4946c0c26",
   "metadata": {},
   "outputs": [
    {
     "data": {
      "text/html": [
       "<div>\n",
       "<style scoped>\n",
       "    .dataframe tbody tr th:only-of-type {\n",
       "        vertical-align: middle;\n",
       "    }\n",
       "\n",
       "    .dataframe tbody tr th {\n",
       "        vertical-align: top;\n",
       "    }\n",
       "\n",
       "    .dataframe thead th {\n",
       "        text-align: right;\n",
       "    }\n",
       "</style>\n",
       "<table border=\"1\" class=\"dataframe\">\n",
       "  <thead>\n",
       "    <tr style=\"text-align: right;\">\n",
       "      <th></th>\n",
       "      <th>Q</th>\n",
       "      <th>Log Q</th>\n",
       "      <th>Supply (log P)</th>\n",
       "      <th>Demand (log P)</th>\n",
       "      <th>Supply (P)</th>\n",
       "      <th>Demand (P)</th>\n",
       "      <th>New supply (log P)</th>\n",
       "      <th>New supply (P)</th>\n",
       "    </tr>\n",
       "  </thead>\n",
       "  <tbody>\n",
       "    <tr>\n",
       "      <th>0</th>\n",
       "      <td>20</td>\n",
       "      <td>2.995732</td>\n",
       "      <td>3.092745</td>\n",
       "      <td>6.043500</td>\n",
       "      <td>22.037485</td>\n",
       "      <td>421.365040</td>\n",
       "      <td>3.492745</td>\n",
       "      <td>32.876064</td>\n",
       "    </tr>\n",
       "    <tr>\n",
       "      <th>1</th>\n",
       "      <td>25</td>\n",
       "      <td>3.218876</td>\n",
       "      <td>3.472089</td>\n",
       "      <td>5.860522</td>\n",
       "      <td>32.203943</td>\n",
       "      <td>350.907208</td>\n",
       "      <td>3.872089</td>\n",
       "      <td>48.042638</td>\n",
       "    </tr>\n",
       "    <tr>\n",
       "      <th>2</th>\n",
       "      <td>30</td>\n",
       "      <td>3.401197</td>\n",
       "      <td>3.782036</td>\n",
       "      <td>5.711018</td>\n",
       "      <td>43.905322</td>\n",
       "      <td>302.178574</td>\n",
       "      <td>4.182036</td>\n",
       "      <td>65.499044</td>\n",
       "    </tr>\n",
       "    <tr>\n",
       "      <th>3</th>\n",
       "      <td>35</td>\n",
       "      <td>3.555348</td>\n",
       "      <td>4.044092</td>\n",
       "      <td>5.584615</td>\n",
       "      <td>57.059336</td>\n",
       "      <td>266.297629</td>\n",
       "      <td>4.444092</td>\n",
       "      <td>85.122526</td>\n",
       "    </tr>\n",
       "    <tr>\n",
       "      <th>4</th>\n",
       "      <td>40</td>\n",
       "      <td>3.688879</td>\n",
       "      <td>4.271095</td>\n",
       "      <td>5.475119</td>\n",
       "      <td>71.600000</td>\n",
       "      <td>238.678832</td>\n",
       "      <td>4.671095</td>\n",
       "      <td>106.814648</td>\n",
       "    </tr>\n",
       "    <tr>\n",
       "      <th>5</th>\n",
       "      <td>45</td>\n",
       "      <td>3.806662</td>\n",
       "      <td>4.471326</td>\n",
       "      <td>5.378537</td>\n",
       "      <td>87.472655</td>\n",
       "      <td>216.704952</td>\n",
       "      <td>4.871326</td>\n",
       "      <td>130.493867</td>\n",
       "    </tr>\n",
       "    <tr>\n",
       "      <th>6</th>\n",
       "      <td>50</td>\n",
       "      <td>3.912023</td>\n",
       "      <td>4.650439</td>\n",
       "      <td>5.292141</td>\n",
       "      <td>104.630920</td>\n",
       "      <td>198.768561</td>\n",
       "      <td>5.050439</td>\n",
       "      <td>156.090990</td>\n",
       "    </tr>\n",
       "    <tr>\n",
       "      <th>7</th>\n",
       "      <td>55</td>\n",
       "      <td>4.007333</td>\n",
       "      <td>4.812466</td>\n",
       "      <td>5.213987</td>\n",
       "      <td>123.034698</td>\n",
       "      <td>183.825472</td>\n",
       "      <td>5.212466</td>\n",
       "      <td>183.546201</td>\n",
       "    </tr>\n",
       "    <tr>\n",
       "      <th>8</th>\n",
       "      <td>60</td>\n",
       "      <td>4.094345</td>\n",
       "      <td>4.960386</td>\n",
       "      <td>5.142637</td>\n",
       "      <td>142.648813</td>\n",
       "      <td>171.166618</td>\n",
       "      <td>5.360386</td>\n",
       "      <td>212.807022</td>\n",
       "    </tr>\n",
       "    <tr>\n",
       "      <th>9</th>\n",
       "      <td>65</td>\n",
       "      <td>4.174387</td>\n",
       "      <td>5.096458</td>\n",
       "      <td>5.077002</td>\n",
       "      <td>163.442028</td>\n",
       "      <td>160.292847</td>\n",
       "      <td>5.496458</td>\n",
       "      <td>243.826854</td>\n",
       "    </tr>\n",
       "    <tr>\n",
       "      <th>10</th>\n",
       "      <td>70</td>\n",
       "      <td>4.248495</td>\n",
       "      <td>5.222442</td>\n",
       "      <td>5.016234</td>\n",
       "      <td>185.386329</td>\n",
       "      <td>150.842146</td>\n",
       "      <td>5.622442</td>\n",
       "      <td>276.563904</td>\n",
       "    </tr>\n",
       "    <tr>\n",
       "      <th>11</th>\n",
       "      <td>75</td>\n",
       "      <td>4.317488</td>\n",
       "      <td>5.339730</td>\n",
       "      <td>4.959660</td>\n",
       "      <td>208.456376</td>\n",
       "      <td>142.545286</td>\n",
       "      <td>5.739730</td>\n",
       "      <td>310.980371</td>\n",
       "    </tr>\n",
       "    <tr>\n",
       "      <th>12</th>\n",
       "      <td>80</td>\n",
       "      <td>4.382027</td>\n",
       "      <td>5.449445</td>\n",
       "      <td>4.906738</td>\n",
       "      <td>232.629086</td>\n",
       "      <td>135.197701</td>\n",
       "      <td>5.849445</td>\n",
       "      <td>347.041816</td>\n",
       "    </tr>\n",
       "    <tr>\n",
       "      <th>13</th>\n",
       "      <td>85</td>\n",
       "      <td>4.442651</td>\n",
       "      <td>5.552507</td>\n",
       "      <td>4.857026</td>\n",
       "      <td>257.883295</td>\n",
       "      <td>128.641050</td>\n",
       "      <td>5.952507</td>\n",
       "      <td>384.716668</td>\n",
       "    </tr>\n",
       "    <tr>\n",
       "      <th>14</th>\n",
       "      <td>90</td>\n",
       "      <td>4.499810</td>\n",
       "      <td>5.649676</td>\n",
       "      <td>4.810156</td>\n",
       "      <td>284.199495</td>\n",
       "      <td>122.750774</td>\n",
       "      <td>6.049676</td>\n",
       "      <td>423.975826</td>\n",
       "    </tr>\n",
       "    <tr>\n",
       "      <th>15</th>\n",
       "      <td>95</td>\n",
       "      <td>4.553877</td>\n",
       "      <td>5.741591</td>\n",
       "      <td>4.765821</td>\n",
       "      <td>311.559620</td>\n",
       "      <td>117.427480</td>\n",
       "      <td>6.141591</td>\n",
       "      <td>464.792336</td>\n",
       "    </tr>\n",
       "    <tr>\n",
       "      <th>16</th>\n",
       "      <td>100</td>\n",
       "      <td>4.605170</td>\n",
       "      <td>5.828789</td>\n",
       "      <td>4.723760</td>\n",
       "      <td>339.946862</td>\n",
       "      <td>112.590850</td>\n",
       "      <td>6.228789</td>\n",
       "      <td>507.141124</td>\n",
       "    </tr>\n",
       "  </tbody>\n",
       "</table>\n",
       "</div>"
      ],
      "text/plain": [
       "      Q     Log Q  Supply (log P)  Demand (log P)  Supply (P)  Demand (P)  \\\n",
       "0    20  2.995732        3.092745        6.043500   22.037485  421.365040   \n",
       "1    25  3.218876        3.472089        5.860522   32.203943  350.907208   \n",
       "2    30  3.401197        3.782036        5.711018   43.905322  302.178574   \n",
       "3    35  3.555348        4.044092        5.584615   57.059336  266.297629   \n",
       "4    40  3.688879        4.271095        5.475119   71.600000  238.678832   \n",
       "5    45  3.806662        4.471326        5.378537   87.472655  216.704952   \n",
       "6    50  3.912023        4.650439        5.292141  104.630920  198.768561   \n",
       "7    55  4.007333        4.812466        5.213987  123.034698  183.825472   \n",
       "8    60  4.094345        4.960386        5.142637  142.648813  171.166618   \n",
       "9    65  4.174387        5.096458        5.077002  163.442028  160.292847   \n",
       "10   70  4.248495        5.222442        5.016234  185.386329  150.842146   \n",
       "11   75  4.317488        5.339730        4.959660  208.456376  142.545286   \n",
       "12   80  4.382027        5.449445        4.906738  232.629086  135.197701   \n",
       "13   85  4.442651        5.552507        4.857026  257.883295  128.641050   \n",
       "14   90  4.499810        5.649676        4.810156  284.199495  122.750774   \n",
       "15   95  4.553877        5.741591        4.765821  311.559620  117.427480   \n",
       "16  100  4.605170        5.828789        4.723760  339.946862  112.590850   \n",
       "\n",
       "    New supply (log P)  New supply (P)  \n",
       "0             3.492745       32.876064  \n",
       "1             3.872089       48.042638  \n",
       "2             4.182036       65.499044  \n",
       "3             4.444092       85.122526  \n",
       "4             4.671095      106.814648  \n",
       "5             4.871326      130.493867  \n",
       "6             5.050439      156.090990  \n",
       "7             5.212466      183.546201  \n",
       "8             5.360386      212.807022  \n",
       "9             5.496458      243.826854  \n",
       "10            5.622442      276.563904  \n",
       "11            5.739730      310.980371  \n",
       "12            5.849445      347.041816  \n",
       "13            5.952507      384.716668  \n",
       "14            6.049676      423.975826  \n",
       "15            6.141591      464.792336  \n",
       "16            6.228789      507.141124  "
      ]
     },
     "execution_count": 10,
     "metadata": {},
     "output_type": "execute_result"
    }
   ],
   "source": [
    "# Bruker formlene fra oppgaven til å regne ut \"New supply (log P)\".\n",
    "df_2[\"New supply (log P)\"]  = -2 + 1.7 * df_2[\"Log Q\"] + 0.4\n",
    "\n",
    "# Bruker exp funksjonen i numpy til å konverterer \"New supply (log P)\" til faktiske priser.\n",
    "df_2[\"New supply (P)\"]  = np.exp(df_2[\"New supply (log P)\"])\n",
    "\n",
    "# Viser dataframen.\n",
    "df_2"
   ]
  },
  {
   "cell_type": "markdown",
   "id": "d9ef90c7-c79c-499a-901b-a54a852d56a2",
   "metadata": {},
   "source": [
    "<hr/>"
   ]
  },
  {
   "cell_type": "markdown",
   "id": "f95d1284-94fa-4b87-adfa-8d7961ccde64",
   "metadata": {},
   "source": [
    "#### Oppgave 3B)"
   ]
  },
  {
   "cell_type": "code",
   "execution_count": 11,
   "id": "49794c72-fb03-4fdb-88d9-034adc5e953b",
   "metadata": {},
   "outputs": [
    {
     "data": {
      "image/png": "[encoded data removed]",
      "text/plain": [
       "<Figure size 640x480 with 1 Axes>"
      ]
     },
     "execution_count": 11,
     "metadata": {},
     "output_type": "execute_result"
    }
   ],
   "source": [
    "# Legger til \"new supply\" i figuren fra oppgave 2D.\n",
    "ax.plot(df_2[\"Q\"], df_2[\"New supply (P)\"], color = \"blue\",  label = \"New supply\")\n",
    "\n",
    "# Oppdaterer legend.\n",
    "ax.legend(loc = \"upper right\")\n",
    "\n",
    "# Viser figuren.\n",
    "fig_2"
   ]
  },
  {
   "cell_type": "markdown",
   "id": "0068a270-7171-42ad-b888-31bd7641a404",
   "metadata": {},
   "source": [
    "<hr/>"
   ]
  },
  {
   "cell_type": "markdown",
   "id": "752bd0dd-a2a2-4db0-9c38-09cbdf44044c",
   "metadata": {},
   "source": [
    "### Oppgave 7.2"
   ]
  },
  {
   "cell_type": "code",
   "execution_count": 8,
   "id": "b875f0e5-cc69-41ed-a2d5-724de293bc60",
   "metadata": {},
   "outputs": [],
   "source": [
    "# Definerer hvilke symboler jeg ønsker å bruke til regneoppgavene.\n",
    "logQ, logP = sp.symbols(\"logQ, logP\")"
   ]
  },
  {
   "cell_type": "markdown",
   "id": "cb333993-f8b1-49c4-89d6-32620c122d10",
   "metadata": {},
   "source": [
    "<hr/>"
   ]
  },
  {
   "cell_type": "markdown",
   "id": "528175f2-2513-4083-9775-54dcc8270b76",
   "metadata": {},
   "source": [
    "#### Oppgave 1A)"
   ]
  },
  {
   "cell_type": "markdown",
   "id": "5ee5b470-c3b5-46e6-a167-877dc6fa4ecb",
   "metadata": {},
   "source": [
    "Formelen for \"supply curve\" er gitt ved (hentet fra oppgaveteksten): \n",
    "<br> $logP = -2.0 + 1.7logQ$"
   ]
  },
  {
   "cell_type": "code",
   "execution_count": 14,
   "id": "aa191e3b-6251-419c-ad03-f9aa181a33a6",
   "metadata": {},
   "outputs": [
    {
     "data": {
      "text/latex": [
       "$\\displaystyle logP = 1.7 logQ - 2.0$"
      ],
      "text/plain": [
       "Eq(logP, 1.7*logQ - 2.0)"
      ]
     },
     "execution_count": 14,
     "metadata": {},
     "output_type": "execute_result"
    }
   ],
   "source": [
    "# Definerer formelen for \"supply curve\" som en sympy \"equation\".\n",
    "sup_eq = sp.Eq(logP, -2.0 + 1.7 * logQ)\n",
    "\n",
    "# Viserer \"equation\".\n",
    "sup_eq"
   ]
  },
  {
   "cell_type": "code",
   "execution_count": 19,
   "id": "d16321e8-63b3-4720-ad33-b9c891689d22",
   "metadata": {},
   "outputs": [
    {
     "data": {
      "text/plain": [
       "[0.588235294117647*logP + 1.17647058823529]"
      ]
     },
     "execution_count": 19,
     "metadata": {},
     "output_type": "execute_result"
    }
   ],
   "source": [
    "# Løser ligningen med hensyn på \"logQ\".\n",
    "sup_el = sp.solve(sup_eq, logQ)\n",
    "\n",
    "# Viser svaret på ligningen.\n",
    "sup_el"
   ]
  },
  {
   "cell_type": "markdown",
   "id": "a38cd5ba-b34e-4c74-9b35-bc94bcd48c83",
   "metadata": {},
   "source": [
    "Runder opp ligningen for ett penere svar:\n",
    "<br> $logQ = 0.59logP + 1.18$"
   ]
  },
  {
   "cell_type": "markdown",
   "id": "5cd8eaf4-788b-4188-93de-d4c85bbe0a94",
   "metadata": {},
   "source": [
    "**Svar:**\n",
    "Vi kan se at priselastisiteten til \"supply\" er 0.59. Den er altså uelastisk. \n",
    "<br> Det vil si at den ikke påvirkes mye av prisendringer. "
   ]
  },
  {
   "cell_type": "markdown",
   "id": "7db503d1-1ea9-4ad1-9897-30386a68327e",
   "metadata": {},
   "source": [
    "<hr/>"
   ]
  },
  {
   "cell_type": "markdown",
   "id": "d28c12b5-504b-45e8-aaf8-f042192de82a",
   "metadata": {},
   "source": [
    "#### Oppgave 1B)"
   ]
  },
  {
   "cell_type": "markdown",
   "id": "c8aed490-643c-4fc9-9da9-dfcf5b36f712",
   "metadata": {},
   "source": [
    "Formelen for \"demand curve\" er gitt ved (hentet fra oppgaveteksten):\n",
    "<br> $logP = 8.5 - 0.82logQ$"
   ]
  },
  {
   "cell_type": "code",
   "execution_count": 21,
   "id": "cbd1352c-898c-494c-8d16-16060322fc15",
   "metadata": {},
   "outputs": [
    {
     "data": {
      "text/latex": [
       "$\\displaystyle logP = 8.5 - 0.82 logQ$"
      ],
      "text/plain": [
       "Eq(logP, 8.5 - 0.82*logQ)"
      ]
     },
     "execution_count": 21,
     "metadata": {},
     "output_type": "execute_result"
    }
   ],
   "source": [
    "# Definerer formelen for \"demand curve\" som en sympy \"equation\".\n",
    "dem_eq = sp.Eq(logP, 8.5 - 0.82 * logQ)\n",
    "\n",
    "# Viserer \"equation\".\n",
    "dem_eq"
   ]
  },
  {
   "cell_type": "code",
   "execution_count": 22,
   "id": "0845b316-0cec-4387-a9db-b370bfa810d1",
   "metadata": {},
   "outputs": [
    {
     "data": {
      "text/plain": [
       "[10.3658536585366 - 1.21951219512195*logP]"
      ]
     },
     "execution_count": 22,
     "metadata": {},
     "output_type": "execute_result"
    }
   ],
   "source": [
    "# Løser ligningen med hensyn på \"logQ\".\n",
    "dem_el = sp.solve(dem_eq, logQ)\n",
    "\n",
    "# Viser svaret på ligningen.\n",
    "dem_el"
   ]
  },
  {
   "cell_type": "markdown",
   "id": "6573845f-27ae-4dd6-b018-5e9061a1aef2",
   "metadata": {},
   "source": [
    "Runder opp ligningen for ett penere svar:\n",
    "<br> $logQ = 10.37 - 1.22logP$"
   ]
  },
  {
   "cell_type": "markdown",
   "id": "e0674fda-4ce6-41f6-92d4-91f147054724",
   "metadata": {},
   "source": [
    "**Svar:**\n",
    "Vi kan se at priselastisiteten til \"demand\" er -1.22. Den er altså elastisk. \n",
    "<br> Det vil si at den påvirkes i større grad av prisendringer. "
   ]
  },
  {
   "cell_type": "markdown",
   "id": "18ae75e2-9d7d-42e2-a548-0e133b29b2a0",
   "metadata": {},
   "source": [
    "<hr/>"
   ]
  },
  {
   "cell_type": "markdown",
   "id": "1fc1dc5c-80e7-4699-a1e2-4cb423f3e957",
   "metadata": {},
   "source": [
    "#### Oppgave 2)"
   ]
  },
  {
   "cell_type": "markdown",
   "id": "e445877e-9fcd-41bf-97bf-4c862c03b03f",
   "metadata": {},
   "source": [
    "Den estimerte *tilbuds* formelen for vannmeloner er som følger (hentet fra oppgaveteksten):\n",
    "<br> $logQ_t = 2.42 + 0.58logP_{t-1} - 0.32logC_{t-1} - 0.12logT_{t_1} + 0.07CP_t - 0.36WW2_t$\n",
    "<br> Vi kan se på tabellen i oppgaveteksten at alle målene på koeffisienten er ganske presise med liten intervall. Det vil si at vi med høy sannsynlighet kan si at disse er riktig."
   ]
  },
  {
   "cell_type": "markdown",
   "id": "9ea2c5de-0b99-4d8b-9a2f-145a26fa23d5",
   "metadata": {},
   "source": [
    "**Pris på vannmeloner (P):** Vi kan se at koeffisienten er positiv, noe som vil si at bønder som planter vannmeloner, har større insentiver for å produsere mer vannmelon når prisen øker. Det vil si at tilbudet øker når prisen er høy. Siden prisealastisiteten til vannmeloner er gitt ved 0.58, kan vi si at den er uelastisk, den blir ikke påvirket mye av prisendringer."
   ]
  },
  {
   "cell_type": "markdown",
   "id": "a94936c5-d7fd-46ec-b1a6-941538c14894",
   "metadata": {},
   "source": [
    "**Pris på bomull (C):** Bomull er ett substitutt for vannmeloner, det vil si at det er ett godt alternativ for vannmeloner. Visst prisen på vannmeloner går ned, vil bøndene produsere mindre vannmeloner og mer bomull. Dette kan vi se på koeffisienten som er negativ. Den blir altså påvirket i større grad av prisendringer."
   ]
  },
  {
   "cell_type": "markdown",
   "id": "6ee72a90-6a2d-4871-864d-b0c40846c059",
   "metadata": {},
   "source": [
    "**Pris på grønnsaker (T):** Grønnsaker er ett substitutt for vannmeloner, det vil si at det er ett godt alternativ for vannmeloner. Visst prisen på vannmeloner går, vil bøndene produsere mindre vannmeloner og mer grønnsaker. Dette kan vi se på koeffisienten som er negativ. Den blir altså påvirket i større grad av prisendringer."
   ]
  },
  {
   "cell_type": "markdown",
   "id": "5d2c978c-64bd-4b44-9c80-789f68097a62",
   "metadata": {},
   "source": [
    "**Bombull programmet (CP):** Bomullprogrammet skulle forhindre at bomull-prisen sank ved å begrense tilgangen på bomull, slik at bønder som reduserte bomulls-produksjon skulle få kompensasjon fra myndighetene. Siden koeffisienten er positiv kan vi si at programmet førte til at flere bønder produserte mer vannmelon."
   ]
  },
  {
   "cell_type": "markdown",
   "id": "756f9707-9e38-413d-853c-fb97842394b2",
   "metadata": {},
   "source": [
    "**Andre verdenskrig (WW2):** Vi kan se at koeffisienten er negativ, det vil si at andre verdenskrig gjordet at produksjonen av vannmeloner gikk ned."
   ]
  },
  {
   "cell_type": "markdown",
   "id": "0755f796-2a80-4982-bda3-d7ed16412446",
   "metadata": {},
   "source": [
    "<hr/>"
   ]
  },
  {
   "cell_type": "markdown",
   "id": "143c393d-1991-4e69-ba9c-cc36853c05ce",
   "metadata": {},
   "source": [
    "#### Oppgave 3)"
   ]
  },
  {
   "cell_type": "markdown",
   "id": "2d36b2c0-ebd4-4cc6-a952-5cbe1b88d6ec",
   "metadata": {},
   "source": [
    "Den estimerte *etterspørsels* formelen for vannmeloner er som følger (hentet fra oppgaveteksten):\n",
    "<br> $log(X_t/N_t) = a_0 -1.13log(P_t) + 1.75log(Y_t/N_t) - 0.97logF_t$\n",
    "<br> Vi kan se på tabellen i oppgaveteksten at alle målene ikke er spesielt presise med en relativt stor intervall. Det vil si at vi ikke kan stole helt på målene, men de er veiledende."
   ]
  },
  {
   "cell_type": "markdown",
   "id": "473577c2-d505-4a65-ba4a-69ba3db634ff",
   "metadata": {},
   "source": [
    "**Pris på vannmeloner (P):** Vi kan se at koeffisienten er negativ, dette kan tyde på at etterspørselen for vannmeloner går ned når prisen øker."
   ]
  },
  {
   "cell_type": "markdown",
   "id": "e37976b6-97fd-464b-b63e-92530c178d66",
   "metadata": {},
   "source": [
    "**Per innbygger inntekt (Y/N):** Her er koeffisienten positiv, dette kan tyde på at etterspørselen for vannmeloner går opp når inntekten til innbyggerne øker."
   ]
  },
  {
   "cell_type": "markdown",
   "id": "b7be3829-7a77-4fbd-b12a-1355096cbaa8",
   "metadata": {},
   "source": [
    "**Jernbane frakt kostnad (F):** Her er koeffisienten negativ, dette kan tyde på at etterspørselen for vannmeloner går ned når kostnaden fro transport øker. "
   ]
  },
  {
   "cell_type": "markdown",
   "id": "f45c0949-e730-4602-8441-391808838eae",
   "metadata": {},
   "source": [
    "<hr/>"
   ]
  },
  {
   "cell_type": "markdown",
   "id": "84639165-624e-4ec3-bf3a-b861c92e55ad",
   "metadata": {},
   "source": [
    "#### Oppgave 4)"
   ]
  },
  {
   "cell_type": "markdown",
   "id": "83ea6a7c-3a88-4a2b-863b-ed5535251b90",
   "metadata": {},
   "source": [
    "En *eksogen variabel* er noe som kommer utenifra modellen man bruker og kan derfor også forklares som ett *eksertne sjokk*. Eksmeplene under tar ikke modellene ovenfor hensyn til og kan derfor kategoriseres som *eksogene variabler*. "
   ]
  },
  {
   "cell_type": "markdown",
   "id": "c09b2240-6fce-4ca3-8ecc-ad47e5e1eabc",
   "metadata": {},
   "source": [
    "**Eksempel (1):** Visst det kommer en forskningsrapport i morgen om at vannmeloner inneholder stoffer som kan framprovosere kreft. Da ville store deler av befolkningen holdt seg unna vannmeloner og etterspørrselskurven ville beveget seg mot venstre. Vi ville selvfølgelig sett motsatt effekt visst forskningsrapporten sa at vannmelon forebygget en lang liste med sykdommer."
   ]
  },
  {
   "cell_type": "markdown",
   "id": "4afe0904-248e-40b6-9264-95e4a16c2503",
   "metadata": {},
   "source": [
    "**Eksempel (2):** Visst myndighetene skulle bestemme seg for at vannmeloner ble godkjent som valutta, ville etterspørselskurven på vannmeloner beveget seg moy høyre. Det ville trolig blitt så høy etterspørsel at individer begynnte å dyrke det selv. Dette hadde selvfølgelig satt i gang veldig mange andre prosesser rundt vannmeloner, men det kunne vært en egen oppgave, så skal ikke gå inn på disse prosessene."
   ]
  },
  {
   "cell_type": "markdown",
   "id": "1809ca40-3af3-48bc-af0f-9d33a17dc64b",
   "metadata": {},
   "source": [
    "<hr/>"
   ]
  },
  {
   "cell_type": "markdown",
   "id": "41b9aaf1-1276-41fa-899f-f720833350d0",
   "metadata": {},
   "source": [
    "## Kildeliste:"
   ]
  },
  {
   "cell_type": "markdown",
   "id": "f1545922-3c80-4265-8767-f2fab157d944",
   "metadata": {},
   "source": [
    "Oppgave: https://www.core-econ.org/doing-economics/book/text/07-03.html\n",
    "<br> Vedlegg til oppgave: https://www.uvic.ca/socialsciences/economics/assets/docs/seminars/KenStewartBrownBagFeb28.pdf"
   ]
  }
 ],
 "metadata": {
  "kernelspec": {
   "display_name": "Python 3 (ipykernel)",
   "language": "python",
   "name": "python3"
  },
  "language_info": {
   "codemirror_mode": {
    "name": "ipython",
    "version": 3
   },
   "file_extension": ".py",
   "mimetype": "text/x-python",
   "name": "python",
   "nbconvert_exporter": "python",
   "pygments_lexer": "ipython3",
   "version": "3.9.15"
  }
 },
 "nbformat": 4,
 "nbformat_minor": 5
}
