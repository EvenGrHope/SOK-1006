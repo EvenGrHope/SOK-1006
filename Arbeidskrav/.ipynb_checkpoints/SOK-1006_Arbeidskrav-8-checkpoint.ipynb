{
 "cells": [
  {
   "cell_type": "markdown",
   "id": "857227c1-e7ef-4713-9a3c-1d9ef71b3914",
   "metadata": {},
   "source": [
    "# SOK-1006 Arbeidskrav (8)"
   ]
  },
  {
   "cell_type": "code",
   "execution_count": 1,
   "id": "31453064-87d4-4258-994b-99496dd089cc",
   "metadata": {},
   "outputs": [],
   "source": [
    "# Laster inn pakker\n",
    "import sympy as sp\n",
    "import numpy as np\n",
    "from matplotlib import pyplot as plt"
   ]
  },
  {
   "cell_type": "markdown",
   "id": "2e2bfbb1-5786-4eaa-b2da-01b418bf6afb",
   "metadata": {},
   "source": [
    "**Oppgave** \\\n",
    "Tenk at en husholdning har preferanser over to goder ($x_1, x_2$\n",
    ") gitt ved en nyttefunksjon av Stone-Geary type:\n",
    "$$U(x_1,x_2) = \\beta_1ln(x_1 - \\gamma_1) + \\beta_2ln(x_2 - \\gamma_2)$$\n",
    " \n",
    "hvor og $\\beta_1 + \\beta_2 = 1$ og $\\gamma_1 > 0, \\gamma_2 > 0$.\\\n",
    "a) Hva kan tolkningen av $\\gamma_1, \\gamma_2$ være?\\\n",
    "b) Priser på de to godene er gitt ved $p_1, p_2$ og husholdningen har inntekt $m$. Hvor mye av hvert gode etterspørres av husholdningen? Gi en intuitiv forklaring av formen på denne etterspørselen.\\\n",
    "c) Statistisk sentralbyrå har utviklet to makroøkonomiske modeller (KVARTS og MODAG) som brukes som analyseredskap av blant annet Finansdepartementet. Les de gule avsnittene i [dette dokumentet](https://github.com/uit-sok-1006-v23/uit-sok-1006-v23.github.io/blob/main/artikler/konsum%20modag%202013%20merket.pdf) som forklarer hvordan husholdningens tilpasning modelleres i KVARTS og MODAG. Bruk din analyse ovenfor til å forklare Trinn 1 i denne prosessen."
   ]
  },
  {
   "cell_type": "markdown",
   "id": "4f041280-ebbf-43b1-8bf3-6af08e02d627",
   "metadata": {},
   "source": [
    "**Oppgave a)**"
   ]
  },
  {
   "cell_type": "markdown",
   "id": "9b99296d-5d88-4bc8-97d0-65893a27d0aa",
   "metadata": {},
   "source": [
    "Parameterne $\\gamma_1, \\gamma_2$ i nyttefunksjonen representerert minimumsforbruket av gode $x_1, x_2$. Husholdningen vil altså ikke være fornøyd med mindre varer enn $\\gamma_1, \\gamma_2$. Husholdningen vil dermed prioritere å tilfredstille minimumsforbruket før de begynner å kjøpe mer av de to godene."
   ]
  },
  {
   "cell_type": "markdown",
   "id": "73d2b5aa-a97c-4e64-9033-cdfbbfb5236f",
   "metadata": {},
   "source": [
    "**Oppgave b)**"
   ]
  },
  {
   "cell_type": "code",
   "execution_count": 2,
   "id": "570e1cec-e43b-401a-83d8-eee2e4e912b8",
   "metadata": {},
   "outputs": [],
   "source": [
    "# Definerer symboler.\n",
    "m, x_1, x_2, p_1, p_2, beta_1, beta_2, gamma_1, gamma_2 = sp.symbols(\"m, x_1 x_2 p_1 p_2 beta_1 beta_2 gamma_1 gamma_2\")"
   ]
  },
  {
   "cell_type": "code",
   "execution_count": 15,
   "id": "47cd23bf-f599-4aea-b2c6-452fdbb9c9a9",
   "metadata": {},
   "outputs": [],
   "source": [
    "# Definerer nyttefunksjonen av Stone-Geary type.\n",
    "nyttefunk = beta_1*sp.log(x_1-gamma_1) + beta_2*sp.log(x_2-gamma_2)"
   ]
  },
  {
   "cell_type": "code",
   "execution_count": 16,
   "id": "850cc101-b5b3-4479-a09e-72b2cf625fc4",
   "metadata": {},
   "outputs": [],
   "source": [
    "# Beregner MSB.\n",
    "msb = sp.diff(nyttefunk, x_1)/sp.diff(nyttefunk, x_2)"
   ]
  },
  {
   "cell_type": "code",
   "execution_count": 17,
   "id": "0e8fb5e7-7383-49bb-bc2d-dc18b9626866",
   "metadata": {},
   "outputs": [],
   "source": [
    "# Trekker fra den relative prisen (p_1) på gode x_1 i forhold til prisen (p_2) på gode x_2, og løser med hensyn på gode x_2.\n",
    "msb_x2 = sp.solve(msb - p_1/p_2, x_2)\n",
    "\n",
    "# Svaret lagres i en liste, trekker ut svaret.\n",
    "msb_x2 = msb_x2[0]"
   ]
  },
  {
   "cell_type": "code",
   "execution_count": 22,
   "id": "4be867d6-9227-414b-b140-7a1bf357e7bf",
   "metadata": {},
   "outputs": [],
   "source": [
    "# Definerer budsjettet.\n",
    "budsjett = p_1*x_1+p_2*x_2\n",
    "\n",
    "# Setter inn x_2 inn i budsjettet.\n",
    "budsjett_msb = budsjett.subs(x_2, msb_x2)"
   ]
  },
  {
   "cell_type": "code",
   "execution_count": 23,
   "id": "5542bc0e-118d-47b8-9ce4-ef3f3c6c2396",
   "metadata": {},
   "outputs": [],
   "source": [
    "# Løser for x_1.\n",
    "eq_x1 = sp.solve(budsjett_msb - m, x_1)\n",
    "eq_x1 = eq_x1[0]\n",
    "eq_x1_display = sp.simplify(eq_x1)"
   ]
  },
  {
   "cell_type": "code",
   "execution_count": 25,
   "id": "c480a670-50b4-4158-a228-2d8040311c64",
   "metadata": {},
   "outputs": [],
   "source": [
    "# Løser for x_2\n",
    "eq_x2 = msb_x2.subs(x_1, eq_x1)\n",
    "eq_x2_display = sp.simplify(eq_x2)"
   ]
  },
  {
   "cell_type": "code",
   "execution_count": 26,
   "id": "9a07d84a-5712-49d7-a86a-723eb4597c41",
   "metadata": {},
   "outputs": [
    {
     "data": {
      "text/latex": [
       "$\\displaystyle \\frac{\\beta_{1} \\gamma_{2} p_{2} - \\beta_{2} \\gamma_{1} p_{1} + \\beta_{2} p_{1} x_{1}}{\\beta_{1} p_{2}}$"
      ],
      "text/plain": [
       "(beta_1*gamma_2*p_2 - beta_2*gamma_1*p_1 + beta_2*p_1*x_1)/(beta_1*p_2)"
      ]
     },
     "metadata": {},
     "output_type": "display_data"
    },
    {
     "data": {
      "text/latex": [
       "$\\displaystyle \\frac{- \\beta_{1} \\gamma_{2} p_{2} + \\beta_{1} m + \\beta_{2} \\gamma_{1} p_{1}}{p_{1} \\left(\\beta_{1} + \\beta_{2}\\right)}$"
      ],
      "text/plain": [
       "(-beta_1*gamma_2*p_2 + beta_1*m + beta_2*gamma_1*p_1)/(p_1*(beta_1 + beta_2))"
      ]
     },
     "metadata": {},
     "output_type": "display_data"
    },
    {
     "data": {
      "text/latex": [
       "$\\displaystyle \\frac{\\beta_{1} \\gamma_{2} p_{2} - \\beta_{2} \\gamma_{1} p_{1} + \\beta_{2} m}{p_{2} \\left(\\beta_{1} + \\beta_{2}\\right)}$"
      ],
      "text/plain": [
       "(beta_1*gamma_2*p_2 - beta_2*gamma_1*p_1 + beta_2*m)/(p_2*(beta_1 + beta_2))"
      ]
     },
     "metadata": {},
     "output_type": "display_data"
    }
   ],
   "source": [
    "# Viser de relevante svarene.\n",
    "display(msb_x2)\n",
    "display(eq_x1_display)\n",
    "display(eq_x2_display)"
   ]
  },
  {
   "cell_type": "markdown",
   "id": "55a32bb4-a142-4dfd-9304-65841a5f8920",
   "metadata": {},
   "source": [
    "Vi kan se fra nyttefunksjonen er av logaritmisk form. Dette betyr at MSB av en økning i forbruket av et gode vil avta når forbruke øker. Denne avtagende marginale nytten vil føre til at husholdningen vil ønske å kjøpe mindre av gode 1 jo høyere prisen på gode 1 er. Det samme gjelder for gode 2."
   ]
  },
  {
   "cell_type": "markdown",
   "id": "0571d3ab-f7fb-4868-957c-4e88a817843a",
   "metadata": {},
   "source": [
    "**Oppgave c)**"
   ]
  },
  {
   "cell_type": "code",
   "execution_count": 27,
   "id": "62703af1-7ec4-4b0b-bf43-6119702ea936",
   "metadata": {},
   "outputs": [
    {
     "data": {
      "text/latex": [
       "$\\displaystyle \\frac{- \\beta_{1} \\gamma_{2} p_{2} + \\beta_{1} m - \\gamma_{1} p_{1} \\left(\\beta_{1} - 1\\right)}{p_{1}}$"
      ],
      "text/plain": [
       "(-beta_1*gamma_2*p_2 + beta_1*m - gamma_1*p_1*(beta_1 - 1))/p_1"
      ]
     },
     "metadata": {},
     "output_type": "display_data"
    },
    {
     "data": {
      "text/latex": [
       "$\\displaystyle \\frac{- \\beta_{2} \\gamma_{1} p_{1} - \\beta_{2} \\gamma_{2} p_{2} + \\beta_{2} m + \\gamma_{2} p_{2}}{p_{2}}$"
      ],
      "text/plain": [
       "(-beta_2*gamma_1*p_1 - beta_2*gamma_2*p_2 + beta_2*m + gamma_2*p_2)/p_2"
      ]
     },
     "metadata": {},
     "output_type": "display_data"
    }
   ],
   "source": [
    "# Setter beta_1 + beta_2 = 0.\n",
    "x_1 = eq_x1.subs(beta_2, (1-beta_1)) \n",
    "x_2 = eq_x2.subs(beta_1, (1-beta_2))\n",
    "\n",
    "# Viser resultatet.\n",
    "display(sp.simplify(x_1))\n",
    "display(sp.factor(x_2))"
   ]
  },
  {
   "cell_type": "markdown",
   "id": "b50c07d0-d810-4ad0-a4ce-26e467ffb7c6",
   "metadata": {},
   "source": [
    "*Ovenfor kan vi se ligninger for etterspørsel for gode $x_1$ og $x_2$.* "
   ]
  },
  {
   "cell_type": "markdown",
   "id": "428672d6-182a-4e8b-9326-6646d0656d5a",
   "metadata": {},
   "source": [
    "Vi kan dermed skrive utgiftene for varene slik:\\\n",
    "$p_1x_1 = p_1\\gamma_1 + \\beta_1(m-p_1\\gamma_1 - p_2\\gamma_2)$\\\n",
    "$p_2x_2 = p_2\\gamma_2 + \\beta_2(m-p_2\\gamma_2 - p_1\\gamma_2)$"
   ]
  },
  {
   "cell_type": "markdown",
   "id": "038280c7-6bd2-417f-b3f8-a1653e2b99e0",
   "metadata": {},
   "source": [
    "Vi kan se at utgiftene for både gode $x_1$ og $x_2$ består av flere ledd. Det første leddet $p_i, \\gamma{i}$ representerer det husholdningen må bruke for å komme opp på minimumsnivået. I neste ledd representerer $\\beta{i}$ det husholdningen har igjen etter å ha nådd minimumsnivået. Altså hvor mye som er igjen etter at minimumskostnadene $p_i, \\gamma{i}$ er utført."
   ]
  }
 ],
 "metadata": {
  "kernelspec": {
   "display_name": "Python 3 (ipykernel)",
   "language": "python",
   "name": "python3"
  },
  "language_info": {
   "codemirror_mode": {
    "name": "ipython",
    "version": 3
   },
   "file_extension": ".py",
   "mimetype": "text/x-python",
   "name": "python",
   "nbconvert_exporter": "python",
   "pygments_lexer": "ipython3",
   "version": "3.9.15"
  }
 },
 "nbformat": 4,
 "nbformat_minor": 5
}
